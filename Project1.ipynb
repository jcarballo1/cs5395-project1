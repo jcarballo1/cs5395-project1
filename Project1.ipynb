{
 "cells": [
  {
   "cell_type": "markdown",
   "id": "cfb24af6",
   "metadata": {},
   "source": [
    "# Project 1 - Population Prediction\n",
    "### CS 5/7394 - Dr. Mark Fontenot\n",
    "### Amory Weinzierl, Randolph Rankin, Sofia Murillo, Jennifer Carballo"
   ]
  },
  {
   "cell_type": "code",
   "execution_count": 876,
   "id": "f1be1f02-033e-4820-bb03-3e0b068d52f3",
   "metadata": {},
   "outputs": [],
   "source": [
    "import pandas as pd\n",
    "import numpy as np\n",
    "import math\n",
    "import matplotlib.pyplot as plt\n",
    "\n",
    "# ignores warnings\n",
    "import warnings\n",
    "warnings.filterwarnings('ignore')"
   ]
  },
  {
   "cell_type": "markdown",
   "id": "c12aa0d8",
   "metadata": {},
   "source": [
    "## data preparation"
   ]
  },
  {
   "cell_type": "code",
   "execution_count": 877,
   "id": "88c84dc8-ab2e-44b0-85a6-655a45d28b94",
   "metadata": {},
   "outputs": [],
   "source": [
    "# reads in csv file\n",
    "\n",
    "df = pd.read_csv(\"aggregate_hdi_indicators_with_population.csv\")"
   ]
  },
  {
   "cell_type": "code",
   "execution_count": 878,
   "id": "b4aead3b-4fa5-42b6-b1ae-f70bf586e1a4",
   "metadata": {},
   "outputs": [
    {
     "data": {
      "text/plain": "            Entity Code  Year  Population (historical estimates)  \\\n0      Afghanistan  AFG  1800                          3280000.0   \n1      Afghanistan  AFG  1801                          3280000.0   \n2      Afghanistan  AFG  1802                          3280000.0   \n3      Afghanistan  AFG  1803                          3280000.0   \n4      Afghanistan  AFG  1804                          3280000.0   \n...            ...  ...   ...                                ...   \n49729     Zimbabwe  ZWE  2017                         14236599.0   \n49730     Zimbabwe  ZWE  2018                         14438812.0   \n49731     Zimbabwe  ZWE  2019                         14645473.0   \n49732     Zimbabwe  ZWE  2020                         14862927.0   \n49733     Zimbabwe  ZWE  2021                         15092171.0   \n\n       Fertility rate (Complete Gapminder, v12) (2017)  \\\n0                                                 7.00   \n1                                                 7.00   \n2                                                 7.00   \n3                                                 7.00   \n4                                                 7.00   \n...                                                ...   \n49729                                             3.68   \n49730                                              NaN   \n49731                                              NaN   \n49732                                              NaN   \n49733                                              NaN   \n\n       Mortality rate, infant (per 1,000 live births)  Life expectancy  \\\n0                                                 NaN              NaN   \n1                                                 NaN              NaN   \n2                                                 NaN              NaN   \n3                                                 NaN              NaN   \n4                                                 NaN              NaN   \n...                                               ...              ...   \n49729                                            4.05           60.812   \n49730                                            3.93           61.195   \n49731                                            3.84           61.490   \n49732                                             NaN              NaN   \n49733                                             NaN              NaN   \n\n       Average Total Years of Schooling for Adult Population (Lee-Lee (2016), Barro-Lee (2018) and UNDP (2018))  \\\n0                                                    NaN                                                          \n1                                                    NaN                                                          \n2                                                    NaN                                                          \n3                                                    NaN                                                          \n4                                                    NaN                                                          \n...                                                  ...                                                          \n49729                                                8.2                                                          \n49730                                                NaN                                                          \n49731                                                NaN                                                          \n49732                                                NaN                                                          \n49733                                                NaN                                                          \n\n       Expected Years of Schooling (years)  \\\n0                                      NaN   \n1                                      NaN   \n2                                      NaN   \n3                                      NaN   \n4                                      NaN   \n...                                    ...   \n49729                                 10.3   \n49730                                  NaN   \n49731                                  NaN   \n49732                                  NaN   \n49733                                  NaN   \n\n       GNI per capita, PPP (constant 2017 international $)  \\\n0                                                    NaN     \n1                                                    NaN     \n2                                                    NaN     \n3                                                    NaN     \n4                                                    NaN     \n...                                                  ...     \n49729                                        3207.887558     \n49730                                        3262.224759     \n49731                                                NaN     \n49732                                                NaN     \n49733                                                NaN     \n\n       Actual Human Development Index (UNDP)  \n0                                        NaN  \n1                                        NaN  \n2                                        NaN  \n3                                        NaN  \n4                                        NaN  \n...                                      ...  \n49729                                  0.535  \n49730                                    NaN  \n49731                                    NaN  \n49732                                    NaN  \n49733                                    NaN  \n\n[49734 rows x 11 columns]",
      "text/html": "<div>\n<style scoped>\n    .dataframe tbody tr th:only-of-type {\n        vertical-align: middle;\n    }\n\n    .dataframe tbody tr th {\n        vertical-align: top;\n    }\n\n    .dataframe thead th {\n        text-align: right;\n    }\n</style>\n<table border=\"1\" class=\"dataframe\">\n  <thead>\n    <tr style=\"text-align: right;\">\n      <th></th>\n      <th>Entity</th>\n      <th>Code</th>\n      <th>Year</th>\n      <th>Population (historical estimates)</th>\n      <th>Fertility rate (Complete Gapminder, v12) (2017)</th>\n      <th>Mortality rate, infant (per 1,000 live births)</th>\n      <th>Life expectancy</th>\n      <th>Average Total Years of Schooling for Adult Population (Lee-Lee (2016), Barro-Lee (2018) and UNDP (2018))</th>\n      <th>Expected Years of Schooling (years)</th>\n      <th>GNI per capita, PPP (constant 2017 international $)</th>\n      <th>Actual Human Development Index (UNDP)</th>\n    </tr>\n  </thead>\n  <tbody>\n    <tr>\n      <th>0</th>\n      <td>Afghanistan</td>\n      <td>AFG</td>\n      <td>1800</td>\n      <td>3280000.0</td>\n      <td>7.00</td>\n      <td>NaN</td>\n      <td>NaN</td>\n      <td>NaN</td>\n      <td>NaN</td>\n      <td>NaN</td>\n      <td>NaN</td>\n    </tr>\n    <tr>\n      <th>1</th>\n      <td>Afghanistan</td>\n      <td>AFG</td>\n      <td>1801</td>\n      <td>3280000.0</td>\n      <td>7.00</td>\n      <td>NaN</td>\n      <td>NaN</td>\n      <td>NaN</td>\n      <td>NaN</td>\n      <td>NaN</td>\n      <td>NaN</td>\n    </tr>\n    <tr>\n      <th>2</th>\n      <td>Afghanistan</td>\n      <td>AFG</td>\n      <td>1802</td>\n      <td>3280000.0</td>\n      <td>7.00</td>\n      <td>NaN</td>\n      <td>NaN</td>\n      <td>NaN</td>\n      <td>NaN</td>\n      <td>NaN</td>\n      <td>NaN</td>\n    </tr>\n    <tr>\n      <th>3</th>\n      <td>Afghanistan</td>\n      <td>AFG</td>\n      <td>1803</td>\n      <td>3280000.0</td>\n      <td>7.00</td>\n      <td>NaN</td>\n      <td>NaN</td>\n      <td>NaN</td>\n      <td>NaN</td>\n      <td>NaN</td>\n      <td>NaN</td>\n    </tr>\n    <tr>\n      <th>4</th>\n      <td>Afghanistan</td>\n      <td>AFG</td>\n      <td>1804</td>\n      <td>3280000.0</td>\n      <td>7.00</td>\n      <td>NaN</td>\n      <td>NaN</td>\n      <td>NaN</td>\n      <td>NaN</td>\n      <td>NaN</td>\n      <td>NaN</td>\n    </tr>\n    <tr>\n      <th>...</th>\n      <td>...</td>\n      <td>...</td>\n      <td>...</td>\n      <td>...</td>\n      <td>...</td>\n      <td>...</td>\n      <td>...</td>\n      <td>...</td>\n      <td>...</td>\n      <td>...</td>\n      <td>...</td>\n    </tr>\n    <tr>\n      <th>49729</th>\n      <td>Zimbabwe</td>\n      <td>ZWE</td>\n      <td>2017</td>\n      <td>14236599.0</td>\n      <td>3.68</td>\n      <td>4.05</td>\n      <td>60.812</td>\n      <td>8.2</td>\n      <td>10.3</td>\n      <td>3207.887558</td>\n      <td>0.535</td>\n    </tr>\n    <tr>\n      <th>49730</th>\n      <td>Zimbabwe</td>\n      <td>ZWE</td>\n      <td>2018</td>\n      <td>14438812.0</td>\n      <td>NaN</td>\n      <td>3.93</td>\n      <td>61.195</td>\n      <td>NaN</td>\n      <td>NaN</td>\n      <td>3262.224759</td>\n      <td>NaN</td>\n    </tr>\n    <tr>\n      <th>49731</th>\n      <td>Zimbabwe</td>\n      <td>ZWE</td>\n      <td>2019</td>\n      <td>14645473.0</td>\n      <td>NaN</td>\n      <td>3.84</td>\n      <td>61.490</td>\n      <td>NaN</td>\n      <td>NaN</td>\n      <td>NaN</td>\n      <td>NaN</td>\n    </tr>\n    <tr>\n      <th>49732</th>\n      <td>Zimbabwe</td>\n      <td>ZWE</td>\n      <td>2020</td>\n      <td>14862927.0</td>\n      <td>NaN</td>\n      <td>NaN</td>\n      <td>NaN</td>\n      <td>NaN</td>\n      <td>NaN</td>\n      <td>NaN</td>\n      <td>NaN</td>\n    </tr>\n    <tr>\n      <th>49733</th>\n      <td>Zimbabwe</td>\n      <td>ZWE</td>\n      <td>2021</td>\n      <td>15092171.0</td>\n      <td>NaN</td>\n      <td>NaN</td>\n      <td>NaN</td>\n      <td>NaN</td>\n      <td>NaN</td>\n      <td>NaN</td>\n      <td>NaN</td>\n    </tr>\n  </tbody>\n</table>\n<p>49734 rows × 11 columns</p>\n</div>"
     },
     "execution_count": 878,
     "metadata": {},
     "output_type": "execute_result"
    }
   ],
   "source": [
    "# display dataframe created from csv file\n",
    "\n",
    "df"
   ]
  },
  {
   "cell_type": "code",
   "execution_count": 879,
   "id": "8276a7a9-0735-4973-94c0-4856d90f6d22",
   "metadata": {},
   "outputs": [],
   "source": [
    "# calculate HDI rate per year \n",
    "\n",
    "#life expectancy index\n",
    "#<-- ([Life expectancy] - [Life Expectancy Minimum]) / ([Life Expectancy Goalpost] - [Life Expectancy Minimum])\n",
    "# ([life expentance of country] - 20) / (85 - 20))\n",
    "\n",
    "#education expectancy index\n",
    "#((([Average Total Years of Schooling for Adult Population (Lee-Lee (2016), Barro-Lee (2018) and UNDP (2018))] \n",
    "# - [Mean Years of Schooling Minimum]) / ([Mean Years of Schooling Goalpost] - [Mean Years of Schooling Minimum])) + (([Expected Years of Schooling (years)] - [Expected Years of Schooling Minimum]) \n",
    "# / ([Expected Years of Schooling Goalpost] - [Expected Years of Schooling Minimum]))) / 2\n",
    "\n",
    "#income expectancy index\n",
    "# (LN([GNI per capita, PPP (constant 2017 international $)]) - LN([GNI per Capita Minimum])) \n",
    "# / (LN([GNI per Capita Goalpost]) - LN([GNI per Capita Minimum]))\n",
    "\n",
    "#HDI\n",
    "# ([Calculated Life Expectancy Index] * [Calculated Education Index] * [Calculated GNI per Capita Index]) ^ (1/3)\n",
    "\n",
    "\n",
    "# find life expectancy weight for each country (life expectancy/global life expetancy)\n",
    "# apply weight to life expectany (weight (^) * life expectancy)\n",
    "# create new column to store\n",
    "# use all countries weighted life expectancies to get global life expectancy\n",
    "# do with other factors\n",
    "# find gobal HDI"
   ]
  },
  {
   "cell_type": "code",
   "execution_count": 880,
   "id": "bba70e44-6f69-4cef-b417-cbdb3bd603bf",
   "metadata": {},
   "outputs": [],
   "source": [
    "# drop unnecessary columns & rename dataframe\n",
    "\n",
    "factors = df.drop(columns = ['Fertility rate (Complete Gapminder, v12) (2017)', 'Mortality rate, infant (per 1,000 live births)', 'Code'])"
   ]
  },
  {
   "cell_type": "code",
   "execution_count": 881,
   "id": "faf1563c-c4a6-40d6-b824-0fe547695ba6",
   "metadata": {},
   "outputs": [
    {
     "data": {
      "text/plain": "            Entity  Year  Population (historical estimates)  Life expectancy  \\\n0      Afghanistan  1800                          3280000.0              NaN   \n1      Afghanistan  1801                          3280000.0              NaN   \n2      Afghanistan  1802                          3280000.0              NaN   \n3      Afghanistan  1803                          3280000.0              NaN   \n4      Afghanistan  1804                          3280000.0              NaN   \n...            ...   ...                                ...              ...   \n49729     Zimbabwe  2017                         14236599.0           60.812   \n49730     Zimbabwe  2018                         14438812.0           61.195   \n49731     Zimbabwe  2019                         14645473.0           61.490   \n49732     Zimbabwe  2020                         14862927.0              NaN   \n49733     Zimbabwe  2021                         15092171.0              NaN   \n\n       Average Total Years of Schooling for Adult Population (Lee-Lee (2016), Barro-Lee (2018) and UNDP (2018))  \\\n0                                                    NaN                                                          \n1                                                    NaN                                                          \n2                                                    NaN                                                          \n3                                                    NaN                                                          \n4                                                    NaN                                                          \n...                                                  ...                                                          \n49729                                                8.2                                                          \n49730                                                NaN                                                          \n49731                                                NaN                                                          \n49732                                                NaN                                                          \n49733                                                NaN                                                          \n\n       Expected Years of Schooling (years)  \\\n0                                      NaN   \n1                                      NaN   \n2                                      NaN   \n3                                      NaN   \n4                                      NaN   \n...                                    ...   \n49729                                 10.3   \n49730                                  NaN   \n49731                                  NaN   \n49732                                  NaN   \n49733                                  NaN   \n\n       GNI per capita, PPP (constant 2017 international $)  \\\n0                                                    NaN     \n1                                                    NaN     \n2                                                    NaN     \n3                                                    NaN     \n4                                                    NaN     \n...                                                  ...     \n49729                                        3207.887558     \n49730                                        3262.224759     \n49731                                                NaN     \n49732                                                NaN     \n49733                                                NaN     \n\n       Actual Human Development Index (UNDP)  \n0                                        NaN  \n1                                        NaN  \n2                                        NaN  \n3                                        NaN  \n4                                        NaN  \n...                                      ...  \n49729                                  0.535  \n49730                                    NaN  \n49731                                    NaN  \n49732                                    NaN  \n49733                                    NaN  \n\n[49734 rows x 8 columns]",
      "text/html": "<div>\n<style scoped>\n    .dataframe tbody tr th:only-of-type {\n        vertical-align: middle;\n    }\n\n    .dataframe tbody tr th {\n        vertical-align: top;\n    }\n\n    .dataframe thead th {\n        text-align: right;\n    }\n</style>\n<table border=\"1\" class=\"dataframe\">\n  <thead>\n    <tr style=\"text-align: right;\">\n      <th></th>\n      <th>Entity</th>\n      <th>Year</th>\n      <th>Population (historical estimates)</th>\n      <th>Life expectancy</th>\n      <th>Average Total Years of Schooling for Adult Population (Lee-Lee (2016), Barro-Lee (2018) and UNDP (2018))</th>\n      <th>Expected Years of Schooling (years)</th>\n      <th>GNI per capita, PPP (constant 2017 international $)</th>\n      <th>Actual Human Development Index (UNDP)</th>\n    </tr>\n  </thead>\n  <tbody>\n    <tr>\n      <th>0</th>\n      <td>Afghanistan</td>\n      <td>1800</td>\n      <td>3280000.0</td>\n      <td>NaN</td>\n      <td>NaN</td>\n      <td>NaN</td>\n      <td>NaN</td>\n      <td>NaN</td>\n    </tr>\n    <tr>\n      <th>1</th>\n      <td>Afghanistan</td>\n      <td>1801</td>\n      <td>3280000.0</td>\n      <td>NaN</td>\n      <td>NaN</td>\n      <td>NaN</td>\n      <td>NaN</td>\n      <td>NaN</td>\n    </tr>\n    <tr>\n      <th>2</th>\n      <td>Afghanistan</td>\n      <td>1802</td>\n      <td>3280000.0</td>\n      <td>NaN</td>\n      <td>NaN</td>\n      <td>NaN</td>\n      <td>NaN</td>\n      <td>NaN</td>\n    </tr>\n    <tr>\n      <th>3</th>\n      <td>Afghanistan</td>\n      <td>1803</td>\n      <td>3280000.0</td>\n      <td>NaN</td>\n      <td>NaN</td>\n      <td>NaN</td>\n      <td>NaN</td>\n      <td>NaN</td>\n    </tr>\n    <tr>\n      <th>4</th>\n      <td>Afghanistan</td>\n      <td>1804</td>\n      <td>3280000.0</td>\n      <td>NaN</td>\n      <td>NaN</td>\n      <td>NaN</td>\n      <td>NaN</td>\n      <td>NaN</td>\n    </tr>\n    <tr>\n      <th>...</th>\n      <td>...</td>\n      <td>...</td>\n      <td>...</td>\n      <td>...</td>\n      <td>...</td>\n      <td>...</td>\n      <td>...</td>\n      <td>...</td>\n    </tr>\n    <tr>\n      <th>49729</th>\n      <td>Zimbabwe</td>\n      <td>2017</td>\n      <td>14236599.0</td>\n      <td>60.812</td>\n      <td>8.2</td>\n      <td>10.3</td>\n      <td>3207.887558</td>\n      <td>0.535</td>\n    </tr>\n    <tr>\n      <th>49730</th>\n      <td>Zimbabwe</td>\n      <td>2018</td>\n      <td>14438812.0</td>\n      <td>61.195</td>\n      <td>NaN</td>\n      <td>NaN</td>\n      <td>3262.224759</td>\n      <td>NaN</td>\n    </tr>\n    <tr>\n      <th>49731</th>\n      <td>Zimbabwe</td>\n      <td>2019</td>\n      <td>14645473.0</td>\n      <td>61.490</td>\n      <td>NaN</td>\n      <td>NaN</td>\n      <td>NaN</td>\n      <td>NaN</td>\n    </tr>\n    <tr>\n      <th>49732</th>\n      <td>Zimbabwe</td>\n      <td>2020</td>\n      <td>14862927.0</td>\n      <td>NaN</td>\n      <td>NaN</td>\n      <td>NaN</td>\n      <td>NaN</td>\n      <td>NaN</td>\n    </tr>\n    <tr>\n      <th>49733</th>\n      <td>Zimbabwe</td>\n      <td>2021</td>\n      <td>15092171.0</td>\n      <td>NaN</td>\n      <td>NaN</td>\n      <td>NaN</td>\n      <td>NaN</td>\n      <td>NaN</td>\n    </tr>\n  </tbody>\n</table>\n<p>49734 rows × 8 columns</p>\n</div>"
     },
     "execution_count": 881,
     "metadata": {},
     "output_type": "execute_result"
    }
   ],
   "source": [
    "factors"
   ]
  },
  {
   "cell_type": "code",
   "execution_count": 882,
   "id": "cfe8f018-66be-4e72-92da-af8ab3224242",
   "metadata": {},
   "outputs": [],
   "source": [
    "# drop all rows that have less than 4 non-na values\n",
    "\n",
    "factors = factors.dropna(thresh=4)"
   ]
  },
  {
   "cell_type": "code",
   "execution_count": 883,
   "id": "61bab6fc-15c3-4639-ac0d-3d96acc63dfe",
   "metadata": {},
   "outputs": [
    {
     "data": {
      "text/plain": "            Entity  Year  Population (historical estimates)  Life expectancy  \\\n70     Afghanistan  1870                          4142928.0              NaN   \n75     Afghanistan  1875                          4247357.0              NaN   \n80     Afghanistan  1880                          4354370.0              NaN   \n85     Afghanistan  1885                          4464010.0              NaN   \n90     Afghanistan  1890                          4576341.0              NaN   \n...            ...   ...                                ...              ...   \n49727     Zimbabwe  2015                         13814642.0           59.534   \n49728     Zimbabwe  2016                         14030338.0           60.294   \n49729     Zimbabwe  2017                         14236599.0           60.812   \n49730     Zimbabwe  2018                         14438812.0           61.195   \n49731     Zimbabwe  2019                         14645473.0           61.490   \n\n       Average Total Years of Schooling for Adult Population (Lee-Lee (2016), Barro-Lee (2018) and UNDP (2018))  \\\n70                                                  0.01                                                          \n75                                                  0.01                                                          \n80                                                  0.01                                                          \n85                                                  0.01                                                          \n90                                                  0.01                                                          \n...                                                  ...                                                          \n49727                                               8.20                                                          \n49728                                               8.20                                                          \n49729                                               8.20                                                          \n49730                                                NaN                                                          \n49731                                                NaN                                                          \n\n       Expected Years of Schooling (years)  \\\n70                                     NaN   \n75                                     NaN   \n80                                     NaN   \n85                                     NaN   \n90                                     NaN   \n...                                    ...   \n49727                                 10.3   \n49728                                 10.3   \n49729                                 10.3   \n49730                                  NaN   \n49731                                  NaN   \n\n       GNI per capita, PPP (constant 2017 international $)  \\\n70                                                   NaN     \n75                                                   NaN     \n80                                                   NaN     \n85                                                   NaN     \n90                                                   NaN     \n...                                                  ...     \n49727                                        2858.616749     \n49728                                        2884.156050     \n49729                                        3207.887558     \n49730                                        3262.224759     \n49731                                                NaN     \n\n       Actual Human Development Index (UNDP)  \n70                                       NaN  \n75                                       NaN  \n80                                       NaN  \n85                                       NaN  \n90                                       NaN  \n...                                      ...  \n49727                                  0.529  \n49728                                  0.532  \n49729                                  0.535  \n49730                                    NaN  \n49731                                    NaN  \n\n[19737 rows x 8 columns]",
      "text/html": "<div>\n<style scoped>\n    .dataframe tbody tr th:only-of-type {\n        vertical-align: middle;\n    }\n\n    .dataframe tbody tr th {\n        vertical-align: top;\n    }\n\n    .dataframe thead th {\n        text-align: right;\n    }\n</style>\n<table border=\"1\" class=\"dataframe\">\n  <thead>\n    <tr style=\"text-align: right;\">\n      <th></th>\n      <th>Entity</th>\n      <th>Year</th>\n      <th>Population (historical estimates)</th>\n      <th>Life expectancy</th>\n      <th>Average Total Years of Schooling for Adult Population (Lee-Lee (2016), Barro-Lee (2018) and UNDP (2018))</th>\n      <th>Expected Years of Schooling (years)</th>\n      <th>GNI per capita, PPP (constant 2017 international $)</th>\n      <th>Actual Human Development Index (UNDP)</th>\n    </tr>\n  </thead>\n  <tbody>\n    <tr>\n      <th>70</th>\n      <td>Afghanistan</td>\n      <td>1870</td>\n      <td>4142928.0</td>\n      <td>NaN</td>\n      <td>0.01</td>\n      <td>NaN</td>\n      <td>NaN</td>\n      <td>NaN</td>\n    </tr>\n    <tr>\n      <th>75</th>\n      <td>Afghanistan</td>\n      <td>1875</td>\n      <td>4247357.0</td>\n      <td>NaN</td>\n      <td>0.01</td>\n      <td>NaN</td>\n      <td>NaN</td>\n      <td>NaN</td>\n    </tr>\n    <tr>\n      <th>80</th>\n      <td>Afghanistan</td>\n      <td>1880</td>\n      <td>4354370.0</td>\n      <td>NaN</td>\n      <td>0.01</td>\n      <td>NaN</td>\n      <td>NaN</td>\n      <td>NaN</td>\n    </tr>\n    <tr>\n      <th>85</th>\n      <td>Afghanistan</td>\n      <td>1885</td>\n      <td>4464010.0</td>\n      <td>NaN</td>\n      <td>0.01</td>\n      <td>NaN</td>\n      <td>NaN</td>\n      <td>NaN</td>\n    </tr>\n    <tr>\n      <th>90</th>\n      <td>Afghanistan</td>\n      <td>1890</td>\n      <td>4576341.0</td>\n      <td>NaN</td>\n      <td>0.01</td>\n      <td>NaN</td>\n      <td>NaN</td>\n      <td>NaN</td>\n    </tr>\n    <tr>\n      <th>...</th>\n      <td>...</td>\n      <td>...</td>\n      <td>...</td>\n      <td>...</td>\n      <td>...</td>\n      <td>...</td>\n      <td>...</td>\n      <td>...</td>\n    </tr>\n    <tr>\n      <th>49727</th>\n      <td>Zimbabwe</td>\n      <td>2015</td>\n      <td>13814642.0</td>\n      <td>59.534</td>\n      <td>8.20</td>\n      <td>10.3</td>\n      <td>2858.616749</td>\n      <td>0.529</td>\n    </tr>\n    <tr>\n      <th>49728</th>\n      <td>Zimbabwe</td>\n      <td>2016</td>\n      <td>14030338.0</td>\n      <td>60.294</td>\n      <td>8.20</td>\n      <td>10.3</td>\n      <td>2884.156050</td>\n      <td>0.532</td>\n    </tr>\n    <tr>\n      <th>49729</th>\n      <td>Zimbabwe</td>\n      <td>2017</td>\n      <td>14236599.0</td>\n      <td>60.812</td>\n      <td>8.20</td>\n      <td>10.3</td>\n      <td>3207.887558</td>\n      <td>0.535</td>\n    </tr>\n    <tr>\n      <th>49730</th>\n      <td>Zimbabwe</td>\n      <td>2018</td>\n      <td>14438812.0</td>\n      <td>61.195</td>\n      <td>NaN</td>\n      <td>NaN</td>\n      <td>3262.224759</td>\n      <td>NaN</td>\n    </tr>\n    <tr>\n      <th>49731</th>\n      <td>Zimbabwe</td>\n      <td>2019</td>\n      <td>14645473.0</td>\n      <td>61.490</td>\n      <td>NaN</td>\n      <td>NaN</td>\n      <td>NaN</td>\n      <td>NaN</td>\n    </tr>\n  </tbody>\n</table>\n<p>19737 rows × 8 columns</p>\n</div>"
     },
     "execution_count": 883,
     "metadata": {},
     "output_type": "execute_result"
    }
   ],
   "source": [
    "factors"
   ]
  },
  {
   "cell_type": "markdown",
   "id": "4bb8e355",
   "metadata": {},
   "source": [
    "## Data Calculation"
   ]
  },
  {
   "cell_type": "code",
   "execution_count": 884,
   "id": "cb7c6236-9e7c-4fbd-a9d3-2730acf261dd",
   "metadata": {},
   "outputs": [],
   "source": [
    "# create new rows to hold weights\n",
    "\n",
    "factors[\"Life Expectancy Weight\"] = np.nan\n",
    "factors[\"Weighted Life Expectancy\"] = np.nan\n",
    "factors[\"YOS Weight\"] = np.nan\n",
    "factors[\"Weighted YOS\"] = np.nan\n",
    "factors[\"Expected YOS Weight\"] = np.nan\n",
    "factors[\"Weighted Expected YOS\"] = np.nan\n",
    "factors[\"GNI Weight\"] = np.nan\n",
    "factors[\"Weighted GNI\"] = np.nan"
   ]
  },
  {
   "cell_type": "code",
   "execution_count": 885,
   "id": "43bbe515-755e-4d62-b8e3-9db9bb6a871b",
   "metadata": {},
   "outputs": [
    {
     "data": {
      "text/plain": "            Entity  Year  Population (historical estimates)  Life expectancy  \\\n70     Afghanistan  1870                          4142928.0              NaN   \n75     Afghanistan  1875                          4247357.0              NaN   \n80     Afghanistan  1880                          4354370.0              NaN   \n85     Afghanistan  1885                          4464010.0              NaN   \n90     Afghanistan  1890                          4576341.0              NaN   \n...            ...   ...                                ...              ...   \n49727     Zimbabwe  2015                         13814642.0           59.534   \n49728     Zimbabwe  2016                         14030338.0           60.294   \n49729     Zimbabwe  2017                         14236599.0           60.812   \n49730     Zimbabwe  2018                         14438812.0           61.195   \n49731     Zimbabwe  2019                         14645473.0           61.490   \n\n       Average Total Years of Schooling for Adult Population (Lee-Lee (2016), Barro-Lee (2018) and UNDP (2018))  \\\n70                                                  0.01                                                          \n75                                                  0.01                                                          \n80                                                  0.01                                                          \n85                                                  0.01                                                          \n90                                                  0.01                                                          \n...                                                  ...                                                          \n49727                                               8.20                                                          \n49728                                               8.20                                                          \n49729                                               8.20                                                          \n49730                                                NaN                                                          \n49731                                                NaN                                                          \n\n       Expected Years of Schooling (years)  \\\n70                                     NaN   \n75                                     NaN   \n80                                     NaN   \n85                                     NaN   \n90                                     NaN   \n...                                    ...   \n49727                                 10.3   \n49728                                 10.3   \n49729                                 10.3   \n49730                                  NaN   \n49731                                  NaN   \n\n       GNI per capita, PPP (constant 2017 international $)  \\\n70                                                   NaN     \n75                                                   NaN     \n80                                                   NaN     \n85                                                   NaN     \n90                                                   NaN     \n...                                                  ...     \n49727                                        2858.616749     \n49728                                        2884.156050     \n49729                                        3207.887558     \n49730                                        3262.224759     \n49731                                                NaN     \n\n       Actual Human Development Index (UNDP)  Life Expectancy Weight  \\\n70                                       NaN                     NaN   \n75                                       NaN                     NaN   \n80                                       NaN                     NaN   \n85                                       NaN                     NaN   \n90                                       NaN                     NaN   \n...                                      ...                     ...   \n49727                                  0.529                     NaN   \n49728                                  0.532                     NaN   \n49729                                  0.535                     NaN   \n49730                                    NaN                     NaN   \n49731                                    NaN                     NaN   \n\n       Weighted Life Expectancy  YOS Weight  Weighted YOS  \\\n70                          NaN         NaN           NaN   \n75                          NaN         NaN           NaN   \n80                          NaN         NaN           NaN   \n85                          NaN         NaN           NaN   \n90                          NaN         NaN           NaN   \n...                         ...         ...           ...   \n49727                       NaN         NaN           NaN   \n49728                       NaN         NaN           NaN   \n49729                       NaN         NaN           NaN   \n49730                       NaN         NaN           NaN   \n49731                       NaN         NaN           NaN   \n\n       Expected YOS Weight  Weighted Expected YOS  GNI Weight  Weighted GNI  \n70                     NaN                    NaN         NaN           NaN  \n75                     NaN                    NaN         NaN           NaN  \n80                     NaN                    NaN         NaN           NaN  \n85                     NaN                    NaN         NaN           NaN  \n90                     NaN                    NaN         NaN           NaN  \n...                    ...                    ...         ...           ...  \n49727                  NaN                    NaN         NaN           NaN  \n49728                  NaN                    NaN         NaN           NaN  \n49729                  NaN                    NaN         NaN           NaN  \n49730                  NaN                    NaN         NaN           NaN  \n49731                  NaN                    NaN         NaN           NaN  \n\n[19737 rows x 16 columns]",
      "text/html": "<div>\n<style scoped>\n    .dataframe tbody tr th:only-of-type {\n        vertical-align: middle;\n    }\n\n    .dataframe tbody tr th {\n        vertical-align: top;\n    }\n\n    .dataframe thead th {\n        text-align: right;\n    }\n</style>\n<table border=\"1\" class=\"dataframe\">\n  <thead>\n    <tr style=\"text-align: right;\">\n      <th></th>\n      <th>Entity</th>\n      <th>Year</th>\n      <th>Population (historical estimates)</th>\n      <th>Life expectancy</th>\n      <th>Average Total Years of Schooling for Adult Population (Lee-Lee (2016), Barro-Lee (2018) and UNDP (2018))</th>\n      <th>Expected Years of Schooling (years)</th>\n      <th>GNI per capita, PPP (constant 2017 international $)</th>\n      <th>Actual Human Development Index (UNDP)</th>\n      <th>Life Expectancy Weight</th>\n      <th>Weighted Life Expectancy</th>\n      <th>YOS Weight</th>\n      <th>Weighted YOS</th>\n      <th>Expected YOS Weight</th>\n      <th>Weighted Expected YOS</th>\n      <th>GNI Weight</th>\n      <th>Weighted GNI</th>\n    </tr>\n  </thead>\n  <tbody>\n    <tr>\n      <th>70</th>\n      <td>Afghanistan</td>\n      <td>1870</td>\n      <td>4142928.0</td>\n      <td>NaN</td>\n      <td>0.01</td>\n      <td>NaN</td>\n      <td>NaN</td>\n      <td>NaN</td>\n      <td>NaN</td>\n      <td>NaN</td>\n      <td>NaN</td>\n      <td>NaN</td>\n      <td>NaN</td>\n      <td>NaN</td>\n      <td>NaN</td>\n      <td>NaN</td>\n    </tr>\n    <tr>\n      <th>75</th>\n      <td>Afghanistan</td>\n      <td>1875</td>\n      <td>4247357.0</td>\n      <td>NaN</td>\n      <td>0.01</td>\n      <td>NaN</td>\n      <td>NaN</td>\n      <td>NaN</td>\n      <td>NaN</td>\n      <td>NaN</td>\n      <td>NaN</td>\n      <td>NaN</td>\n      <td>NaN</td>\n      <td>NaN</td>\n      <td>NaN</td>\n      <td>NaN</td>\n    </tr>\n    <tr>\n      <th>80</th>\n      <td>Afghanistan</td>\n      <td>1880</td>\n      <td>4354370.0</td>\n      <td>NaN</td>\n      <td>0.01</td>\n      <td>NaN</td>\n      <td>NaN</td>\n      <td>NaN</td>\n      <td>NaN</td>\n      <td>NaN</td>\n      <td>NaN</td>\n      <td>NaN</td>\n      <td>NaN</td>\n      <td>NaN</td>\n      <td>NaN</td>\n      <td>NaN</td>\n    </tr>\n    <tr>\n      <th>85</th>\n      <td>Afghanistan</td>\n      <td>1885</td>\n      <td>4464010.0</td>\n      <td>NaN</td>\n      <td>0.01</td>\n      <td>NaN</td>\n      <td>NaN</td>\n      <td>NaN</td>\n      <td>NaN</td>\n      <td>NaN</td>\n      <td>NaN</td>\n      <td>NaN</td>\n      <td>NaN</td>\n      <td>NaN</td>\n      <td>NaN</td>\n      <td>NaN</td>\n    </tr>\n    <tr>\n      <th>90</th>\n      <td>Afghanistan</td>\n      <td>1890</td>\n      <td>4576341.0</td>\n      <td>NaN</td>\n      <td>0.01</td>\n      <td>NaN</td>\n      <td>NaN</td>\n      <td>NaN</td>\n      <td>NaN</td>\n      <td>NaN</td>\n      <td>NaN</td>\n      <td>NaN</td>\n      <td>NaN</td>\n      <td>NaN</td>\n      <td>NaN</td>\n      <td>NaN</td>\n    </tr>\n    <tr>\n      <th>...</th>\n      <td>...</td>\n      <td>...</td>\n      <td>...</td>\n      <td>...</td>\n      <td>...</td>\n      <td>...</td>\n      <td>...</td>\n      <td>...</td>\n      <td>...</td>\n      <td>...</td>\n      <td>...</td>\n      <td>...</td>\n      <td>...</td>\n      <td>...</td>\n      <td>...</td>\n      <td>...</td>\n    </tr>\n    <tr>\n      <th>49727</th>\n      <td>Zimbabwe</td>\n      <td>2015</td>\n      <td>13814642.0</td>\n      <td>59.534</td>\n      <td>8.20</td>\n      <td>10.3</td>\n      <td>2858.616749</td>\n      <td>0.529</td>\n      <td>NaN</td>\n      <td>NaN</td>\n      <td>NaN</td>\n      <td>NaN</td>\n      <td>NaN</td>\n      <td>NaN</td>\n      <td>NaN</td>\n      <td>NaN</td>\n    </tr>\n    <tr>\n      <th>49728</th>\n      <td>Zimbabwe</td>\n      <td>2016</td>\n      <td>14030338.0</td>\n      <td>60.294</td>\n      <td>8.20</td>\n      <td>10.3</td>\n      <td>2884.156050</td>\n      <td>0.532</td>\n      <td>NaN</td>\n      <td>NaN</td>\n      <td>NaN</td>\n      <td>NaN</td>\n      <td>NaN</td>\n      <td>NaN</td>\n      <td>NaN</td>\n      <td>NaN</td>\n    </tr>\n    <tr>\n      <th>49729</th>\n      <td>Zimbabwe</td>\n      <td>2017</td>\n      <td>14236599.0</td>\n      <td>60.812</td>\n      <td>8.20</td>\n      <td>10.3</td>\n      <td>3207.887558</td>\n      <td>0.535</td>\n      <td>NaN</td>\n      <td>NaN</td>\n      <td>NaN</td>\n      <td>NaN</td>\n      <td>NaN</td>\n      <td>NaN</td>\n      <td>NaN</td>\n      <td>NaN</td>\n    </tr>\n    <tr>\n      <th>49730</th>\n      <td>Zimbabwe</td>\n      <td>2018</td>\n      <td>14438812.0</td>\n      <td>61.195</td>\n      <td>NaN</td>\n      <td>NaN</td>\n      <td>3262.224759</td>\n      <td>NaN</td>\n      <td>NaN</td>\n      <td>NaN</td>\n      <td>NaN</td>\n      <td>NaN</td>\n      <td>NaN</td>\n      <td>NaN</td>\n      <td>NaN</td>\n      <td>NaN</td>\n    </tr>\n    <tr>\n      <th>49731</th>\n      <td>Zimbabwe</td>\n      <td>2019</td>\n      <td>14645473.0</td>\n      <td>61.490</td>\n      <td>NaN</td>\n      <td>NaN</td>\n      <td>NaN</td>\n      <td>NaN</td>\n      <td>NaN</td>\n      <td>NaN</td>\n      <td>NaN</td>\n      <td>NaN</td>\n      <td>NaN</td>\n      <td>NaN</td>\n      <td>NaN</td>\n      <td>NaN</td>\n    </tr>\n  </tbody>\n</table>\n<p>19737 rows × 16 columns</p>\n</div>"
     },
     "execution_count": 885,
     "metadata": {},
     "output_type": "execute_result"
    }
   ],
   "source": [
    "factors"
   ]
  },
  {
   "cell_type": "code",
   "execution_count": 886,
   "id": "8add877a-4e37-45d0-9c76-245a53351055",
   "metadata": {},
   "outputs": [],
   "source": [
    "# reorder rows\n",
    "\n",
    "factors = factors[[\"Entity\",\n",
    "                   \"Year\", \n",
    "                   \"Population (historical estimates)\", \n",
    "                   \"Life expectancy\", \"Life Expectancy Weight\", \"Weighted Life Expectancy\", \n",
    "                   \"Average Total Years of Schooling for Adult Population (Lee-Lee (2016), Barro-Lee (2018) and UNDP (2018))\", \"YOS Weight\", \"Weighted YOS\",\n",
    "                   \"Expected Years of Schooling (years)\", \"Expected YOS Weight\", \"Weighted Expected YOS\",\n",
    "                   \"GNI per capita, PPP (constant 2017 international $)\", \"GNI Weight\", \"Weighted GNI\",\n",
    "                   \"Actual Human Development Index (UNDP)\"\n",
    "                  ]]"
   ]
  },
  {
   "cell_type": "code",
   "execution_count": 887,
   "id": "8acc8179-97a1-432d-b456-491ebe7af97c",
   "metadata": {},
   "outputs": [
    {
     "data": {
      "text/plain": "            Entity  Year  Population (historical estimates)  Life expectancy  \\\n70     Afghanistan  1870                          4142928.0              NaN   \n75     Afghanistan  1875                          4247357.0              NaN   \n80     Afghanistan  1880                          4354370.0              NaN   \n85     Afghanistan  1885                          4464010.0              NaN   \n90     Afghanistan  1890                          4576341.0              NaN   \n...            ...   ...                                ...              ...   \n49727     Zimbabwe  2015                         13814642.0           59.534   \n49728     Zimbabwe  2016                         14030338.0           60.294   \n49729     Zimbabwe  2017                         14236599.0           60.812   \n49730     Zimbabwe  2018                         14438812.0           61.195   \n49731     Zimbabwe  2019                         14645473.0           61.490   \n\n       Life Expectancy Weight  Weighted Life Expectancy  \\\n70                        NaN                       NaN   \n75                        NaN                       NaN   \n80                        NaN                       NaN   \n85                        NaN                       NaN   \n90                        NaN                       NaN   \n...                       ...                       ...   \n49727                     NaN                       NaN   \n49728                     NaN                       NaN   \n49729                     NaN                       NaN   \n49730                     NaN                       NaN   \n49731                     NaN                       NaN   \n\n       Average Total Years of Schooling for Adult Population (Lee-Lee (2016), Barro-Lee (2018) and UNDP (2018))  \\\n70                                                  0.01                                                          \n75                                                  0.01                                                          \n80                                                  0.01                                                          \n85                                                  0.01                                                          \n90                                                  0.01                                                          \n...                                                  ...                                                          \n49727                                               8.20                                                          \n49728                                               8.20                                                          \n49729                                               8.20                                                          \n49730                                                NaN                                                          \n49731                                                NaN                                                          \n\n       YOS Weight  Weighted YOS  Expected Years of Schooling (years)  \\\n70            NaN           NaN                                  NaN   \n75            NaN           NaN                                  NaN   \n80            NaN           NaN                                  NaN   \n85            NaN           NaN                                  NaN   \n90            NaN           NaN                                  NaN   \n...           ...           ...                                  ...   \n49727         NaN           NaN                                 10.3   \n49728         NaN           NaN                                 10.3   \n49729         NaN           NaN                                 10.3   \n49730         NaN           NaN                                  NaN   \n49731         NaN           NaN                                  NaN   \n\n       Expected YOS Weight  Weighted Expected YOS  \\\n70                     NaN                    NaN   \n75                     NaN                    NaN   \n80                     NaN                    NaN   \n85                     NaN                    NaN   \n90                     NaN                    NaN   \n...                    ...                    ...   \n49727                  NaN                    NaN   \n49728                  NaN                    NaN   \n49729                  NaN                    NaN   \n49730                  NaN                    NaN   \n49731                  NaN                    NaN   \n\n       GNI per capita, PPP (constant 2017 international $)  GNI Weight  \\\n70                                                   NaN           NaN   \n75                                                   NaN           NaN   \n80                                                   NaN           NaN   \n85                                                   NaN           NaN   \n90                                                   NaN           NaN   \n...                                                  ...           ...   \n49727                                        2858.616749           NaN   \n49728                                        2884.156050           NaN   \n49729                                        3207.887558           NaN   \n49730                                        3262.224759           NaN   \n49731                                                NaN           NaN   \n\n       Weighted GNI  Actual Human Development Index (UNDP)  \n70              NaN                                    NaN  \n75              NaN                                    NaN  \n80              NaN                                    NaN  \n85              NaN                                    NaN  \n90              NaN                                    NaN  \n...             ...                                    ...  \n49727           NaN                                  0.529  \n49728           NaN                                  0.532  \n49729           NaN                                  0.535  \n49730           NaN                                    NaN  \n49731           NaN                                    NaN  \n\n[19737 rows x 16 columns]",
      "text/html": "<div>\n<style scoped>\n    .dataframe tbody tr th:only-of-type {\n        vertical-align: middle;\n    }\n\n    .dataframe tbody tr th {\n        vertical-align: top;\n    }\n\n    .dataframe thead th {\n        text-align: right;\n    }\n</style>\n<table border=\"1\" class=\"dataframe\">\n  <thead>\n    <tr style=\"text-align: right;\">\n      <th></th>\n      <th>Entity</th>\n      <th>Year</th>\n      <th>Population (historical estimates)</th>\n      <th>Life expectancy</th>\n      <th>Life Expectancy Weight</th>\n      <th>Weighted Life Expectancy</th>\n      <th>Average Total Years of Schooling for Adult Population (Lee-Lee (2016), Barro-Lee (2018) and UNDP (2018))</th>\n      <th>YOS Weight</th>\n      <th>Weighted YOS</th>\n      <th>Expected Years of Schooling (years)</th>\n      <th>Expected YOS Weight</th>\n      <th>Weighted Expected YOS</th>\n      <th>GNI per capita, PPP (constant 2017 international $)</th>\n      <th>GNI Weight</th>\n      <th>Weighted GNI</th>\n      <th>Actual Human Development Index (UNDP)</th>\n    </tr>\n  </thead>\n  <tbody>\n    <tr>\n      <th>70</th>\n      <td>Afghanistan</td>\n      <td>1870</td>\n      <td>4142928.0</td>\n      <td>NaN</td>\n      <td>NaN</td>\n      <td>NaN</td>\n      <td>0.01</td>\n      <td>NaN</td>\n      <td>NaN</td>\n      <td>NaN</td>\n      <td>NaN</td>\n      <td>NaN</td>\n      <td>NaN</td>\n      <td>NaN</td>\n      <td>NaN</td>\n      <td>NaN</td>\n    </tr>\n    <tr>\n      <th>75</th>\n      <td>Afghanistan</td>\n      <td>1875</td>\n      <td>4247357.0</td>\n      <td>NaN</td>\n      <td>NaN</td>\n      <td>NaN</td>\n      <td>0.01</td>\n      <td>NaN</td>\n      <td>NaN</td>\n      <td>NaN</td>\n      <td>NaN</td>\n      <td>NaN</td>\n      <td>NaN</td>\n      <td>NaN</td>\n      <td>NaN</td>\n      <td>NaN</td>\n    </tr>\n    <tr>\n      <th>80</th>\n      <td>Afghanistan</td>\n      <td>1880</td>\n      <td>4354370.0</td>\n      <td>NaN</td>\n      <td>NaN</td>\n      <td>NaN</td>\n      <td>0.01</td>\n      <td>NaN</td>\n      <td>NaN</td>\n      <td>NaN</td>\n      <td>NaN</td>\n      <td>NaN</td>\n      <td>NaN</td>\n      <td>NaN</td>\n      <td>NaN</td>\n      <td>NaN</td>\n    </tr>\n    <tr>\n      <th>85</th>\n      <td>Afghanistan</td>\n      <td>1885</td>\n      <td>4464010.0</td>\n      <td>NaN</td>\n      <td>NaN</td>\n      <td>NaN</td>\n      <td>0.01</td>\n      <td>NaN</td>\n      <td>NaN</td>\n      <td>NaN</td>\n      <td>NaN</td>\n      <td>NaN</td>\n      <td>NaN</td>\n      <td>NaN</td>\n      <td>NaN</td>\n      <td>NaN</td>\n    </tr>\n    <tr>\n      <th>90</th>\n      <td>Afghanistan</td>\n      <td>1890</td>\n      <td>4576341.0</td>\n      <td>NaN</td>\n      <td>NaN</td>\n      <td>NaN</td>\n      <td>0.01</td>\n      <td>NaN</td>\n      <td>NaN</td>\n      <td>NaN</td>\n      <td>NaN</td>\n      <td>NaN</td>\n      <td>NaN</td>\n      <td>NaN</td>\n      <td>NaN</td>\n      <td>NaN</td>\n    </tr>\n    <tr>\n      <th>...</th>\n      <td>...</td>\n      <td>...</td>\n      <td>...</td>\n      <td>...</td>\n      <td>...</td>\n      <td>...</td>\n      <td>...</td>\n      <td>...</td>\n      <td>...</td>\n      <td>...</td>\n      <td>...</td>\n      <td>...</td>\n      <td>...</td>\n      <td>...</td>\n      <td>...</td>\n      <td>...</td>\n    </tr>\n    <tr>\n      <th>49727</th>\n      <td>Zimbabwe</td>\n      <td>2015</td>\n      <td>13814642.0</td>\n      <td>59.534</td>\n      <td>NaN</td>\n      <td>NaN</td>\n      <td>8.20</td>\n      <td>NaN</td>\n      <td>NaN</td>\n      <td>10.3</td>\n      <td>NaN</td>\n      <td>NaN</td>\n      <td>2858.616749</td>\n      <td>NaN</td>\n      <td>NaN</td>\n      <td>0.529</td>\n    </tr>\n    <tr>\n      <th>49728</th>\n      <td>Zimbabwe</td>\n      <td>2016</td>\n      <td>14030338.0</td>\n      <td>60.294</td>\n      <td>NaN</td>\n      <td>NaN</td>\n      <td>8.20</td>\n      <td>NaN</td>\n      <td>NaN</td>\n      <td>10.3</td>\n      <td>NaN</td>\n      <td>NaN</td>\n      <td>2884.156050</td>\n      <td>NaN</td>\n      <td>NaN</td>\n      <td>0.532</td>\n    </tr>\n    <tr>\n      <th>49729</th>\n      <td>Zimbabwe</td>\n      <td>2017</td>\n      <td>14236599.0</td>\n      <td>60.812</td>\n      <td>NaN</td>\n      <td>NaN</td>\n      <td>8.20</td>\n      <td>NaN</td>\n      <td>NaN</td>\n      <td>10.3</td>\n      <td>NaN</td>\n      <td>NaN</td>\n      <td>3207.887558</td>\n      <td>NaN</td>\n      <td>NaN</td>\n      <td>0.535</td>\n    </tr>\n    <tr>\n      <th>49730</th>\n      <td>Zimbabwe</td>\n      <td>2018</td>\n      <td>14438812.0</td>\n      <td>61.195</td>\n      <td>NaN</td>\n      <td>NaN</td>\n      <td>NaN</td>\n      <td>NaN</td>\n      <td>NaN</td>\n      <td>NaN</td>\n      <td>NaN</td>\n      <td>NaN</td>\n      <td>3262.224759</td>\n      <td>NaN</td>\n      <td>NaN</td>\n      <td>NaN</td>\n    </tr>\n    <tr>\n      <th>49731</th>\n      <td>Zimbabwe</td>\n      <td>2019</td>\n      <td>14645473.0</td>\n      <td>61.490</td>\n      <td>NaN</td>\n      <td>NaN</td>\n      <td>NaN</td>\n      <td>NaN</td>\n      <td>NaN</td>\n      <td>NaN</td>\n      <td>NaN</td>\n      <td>NaN</td>\n      <td>NaN</td>\n      <td>NaN</td>\n      <td>NaN</td>\n      <td>NaN</td>\n    </tr>\n  </tbody>\n</table>\n<p>19737 rows × 16 columns</p>\n</div>"
     },
     "execution_count": 887,
     "metadata": {},
     "output_type": "execute_result"
    }
   ],
   "source": [
    "factors"
   ]
  },
  {
   "cell_type": "code",
   "execution_count": 888,
   "id": "7511f75e-fba4-4806-823d-32b94f3627f6",
   "metadata": {},
   "outputs": [
    {
     "name": "stdout",
     "output_type": "stream",
     "text": [
      "1220133545.0\n"
     ]
    }
   ],
   "source": [
    "# test out to find sum of population for only rows where year = 1870\n",
    "\n",
    "print(factors['Population (historical estimates)'].loc[factors['Year'] == 1870].mean())"
   ]
  },
  {
   "cell_type": "code",
   "execution_count": 889,
   "id": "81768190",
   "metadata": {},
   "outputs": [
    {
     "name": "stdout",
     "output_type": "stream",
     "text": [
      "125189418.0\n"
     ]
    }
   ],
   "source": [
    "# test out to find sum of population for only rows where year = 1870 and the life expectancy column is not \n",
    "\n",
    "print(factors['Population (historical estimates)'].loc[(factors['Year'] == 1870) \n",
    "                                                       & (pd.notna(factors['Life expectancy']))].sum())"
   ]
  },
  {
   "cell_type": "code",
   "execution_count": 890,
   "id": "3a32a24c-b783-41e4-8909-c0a271afa419",
   "metadata": {},
   "outputs": [],
   "source": [
    "# test out weight equation on the above requirements\n",
    "\n",
    "factors['Life Expectancy Weight'].loc[(factors['Year'] == 1870) & (pd.notna(factors['Life expectancy']))] = (\n",
    "    factors['Population (historical estimates)'].loc[(factors['Year'] == 1870) & (pd.notna(factors['Life expectancy']))] \n",
    "    / factors['Population (historical estimates)'].loc[(factors['Year'] == 1870) \n",
    "                                                       & (pd.notna(factors['Life expectancy']))].sum())"
   ]
  },
  {
   "cell_type": "code",
   "execution_count": 891,
   "id": "cbb3dd70",
   "metadata": {},
   "outputs": [
    {
     "data": {
      "text/plain": "               Entity  Year  Population (historical estimates)  \\\n2464          Austria  1870                          4528451.0   \n4018          Belgium  1870                          5097637.0   \n11333         Denmark  1870                          1887969.0   \n14644          France  1870                         38184704.0   \n19378         Iceland  1870                            69836.0   \n21448           Japan  1870                         34388672.0   \n30430     Netherlands  1870                          3609009.0   \n32568          Norway  1870                          1736968.0   \n42380          Sweden  1870                          4168145.0   \n46846  United Kingdom  1870                         31518027.0   \n\n       Life expectancy  Life Expectancy Weight  Weighted Life Expectancy  \\\n2464         34.400002                0.036173                       NaN   \n4018         40.900002                0.040719                       NaN   \n11333        45.970001                0.015081                       NaN   \n14644        36.389999                0.305015                       NaN   \n19378        38.340000                0.000558                       NaN   \n21448        36.592640                0.274693                       NaN   \n30430        37.320000                0.028828                       NaN   \n32568        50.849998                0.013875                       NaN   \n42380        44.970001                0.033295                       NaN   \n46846        40.605000                0.251763                       NaN   \n\n       Average Total Years of Schooling for Adult Population (Lee-Lee (2016), Barro-Lee (2018) and UNDP (2018))  \\\n2464                                                2.13                                                          \n4018                                                2.27                                                          \n11333                                               2.39                                                          \n14644                                               0.66                                                          \n19378                                               0.74                                                          \n21448                                               0.42                                                          \n30430                                               2.89                                                          \n32568                                               3.82                                                          \n42380                                               3.51                                                          \n46846                                               0.80                                                          \n\n       YOS Weight  Weighted YOS  Expected Years of Schooling (years)  \\\n2464          NaN           NaN                                  NaN   \n4018          NaN           NaN                                  NaN   \n11333         NaN           NaN                                  NaN   \n14644         NaN           NaN                                  NaN   \n19378         NaN           NaN                                  NaN   \n21448         NaN           NaN                                  NaN   \n30430         NaN           NaN                                  NaN   \n32568         NaN           NaN                                  NaN   \n42380         NaN           NaN                                  NaN   \n46846         NaN           NaN                                  NaN   \n\n       Expected YOS Weight  Weighted Expected YOS  \\\n2464                   NaN                    NaN   \n4018                   NaN                    NaN   \n11333                  NaN                    NaN   \n14644                  NaN                    NaN   \n19378                  NaN                    NaN   \n21448                  NaN                    NaN   \n30430                  NaN                    NaN   \n32568                  NaN                    NaN   \n42380                  NaN                    NaN   \n46846                  NaN                    NaN   \n\n       GNI per capita, PPP (constant 2017 international $)  GNI Weight  \\\n2464                                                 NaN           NaN   \n4018                                                 NaN           NaN   \n11333                                                NaN           NaN   \n14644                                                NaN           NaN   \n19378                                                NaN           NaN   \n21448                                                NaN           NaN   \n30430                                                NaN           NaN   \n32568                                                NaN           NaN   \n42380                                                NaN           NaN   \n46846                                                NaN           NaN   \n\n       Weighted GNI  Actual Human Development Index (UNDP)  \n2464            NaN                                    NaN  \n4018            NaN                                    NaN  \n11333           NaN                                    NaN  \n14644           NaN                                    NaN  \n19378           NaN                                    NaN  \n21448           NaN                                    NaN  \n30430           NaN                                    NaN  \n32568           NaN                                    NaN  \n42380           NaN                                    NaN  \n46846           NaN                                    NaN  ",
      "text/html": "<div>\n<style scoped>\n    .dataframe tbody tr th:only-of-type {\n        vertical-align: middle;\n    }\n\n    .dataframe tbody tr th {\n        vertical-align: top;\n    }\n\n    .dataframe thead th {\n        text-align: right;\n    }\n</style>\n<table border=\"1\" class=\"dataframe\">\n  <thead>\n    <tr style=\"text-align: right;\">\n      <th></th>\n      <th>Entity</th>\n      <th>Year</th>\n      <th>Population (historical estimates)</th>\n      <th>Life expectancy</th>\n      <th>Life Expectancy Weight</th>\n      <th>Weighted Life Expectancy</th>\n      <th>Average Total Years of Schooling for Adult Population (Lee-Lee (2016), Barro-Lee (2018) and UNDP (2018))</th>\n      <th>YOS Weight</th>\n      <th>Weighted YOS</th>\n      <th>Expected Years of Schooling (years)</th>\n      <th>Expected YOS Weight</th>\n      <th>Weighted Expected YOS</th>\n      <th>GNI per capita, PPP (constant 2017 international $)</th>\n      <th>GNI Weight</th>\n      <th>Weighted GNI</th>\n      <th>Actual Human Development Index (UNDP)</th>\n    </tr>\n  </thead>\n  <tbody>\n    <tr>\n      <th>2464</th>\n      <td>Austria</td>\n      <td>1870</td>\n      <td>4528451.0</td>\n      <td>34.400002</td>\n      <td>0.036173</td>\n      <td>NaN</td>\n      <td>2.13</td>\n      <td>NaN</td>\n      <td>NaN</td>\n      <td>NaN</td>\n      <td>NaN</td>\n      <td>NaN</td>\n      <td>NaN</td>\n      <td>NaN</td>\n      <td>NaN</td>\n      <td>NaN</td>\n    </tr>\n    <tr>\n      <th>4018</th>\n      <td>Belgium</td>\n      <td>1870</td>\n      <td>5097637.0</td>\n      <td>40.900002</td>\n      <td>0.040719</td>\n      <td>NaN</td>\n      <td>2.27</td>\n      <td>NaN</td>\n      <td>NaN</td>\n      <td>NaN</td>\n      <td>NaN</td>\n      <td>NaN</td>\n      <td>NaN</td>\n      <td>NaN</td>\n      <td>NaN</td>\n      <td>NaN</td>\n    </tr>\n    <tr>\n      <th>11333</th>\n      <td>Denmark</td>\n      <td>1870</td>\n      <td>1887969.0</td>\n      <td>45.970001</td>\n      <td>0.015081</td>\n      <td>NaN</td>\n      <td>2.39</td>\n      <td>NaN</td>\n      <td>NaN</td>\n      <td>NaN</td>\n      <td>NaN</td>\n      <td>NaN</td>\n      <td>NaN</td>\n      <td>NaN</td>\n      <td>NaN</td>\n      <td>NaN</td>\n    </tr>\n    <tr>\n      <th>14644</th>\n      <td>France</td>\n      <td>1870</td>\n      <td>38184704.0</td>\n      <td>36.389999</td>\n      <td>0.305015</td>\n      <td>NaN</td>\n      <td>0.66</td>\n      <td>NaN</td>\n      <td>NaN</td>\n      <td>NaN</td>\n      <td>NaN</td>\n      <td>NaN</td>\n      <td>NaN</td>\n      <td>NaN</td>\n      <td>NaN</td>\n      <td>NaN</td>\n    </tr>\n    <tr>\n      <th>19378</th>\n      <td>Iceland</td>\n      <td>1870</td>\n      <td>69836.0</td>\n      <td>38.340000</td>\n      <td>0.000558</td>\n      <td>NaN</td>\n      <td>0.74</td>\n      <td>NaN</td>\n      <td>NaN</td>\n      <td>NaN</td>\n      <td>NaN</td>\n      <td>NaN</td>\n      <td>NaN</td>\n      <td>NaN</td>\n      <td>NaN</td>\n      <td>NaN</td>\n    </tr>\n    <tr>\n      <th>21448</th>\n      <td>Japan</td>\n      <td>1870</td>\n      <td>34388672.0</td>\n      <td>36.592640</td>\n      <td>0.274693</td>\n      <td>NaN</td>\n      <td>0.42</td>\n      <td>NaN</td>\n      <td>NaN</td>\n      <td>NaN</td>\n      <td>NaN</td>\n      <td>NaN</td>\n      <td>NaN</td>\n      <td>NaN</td>\n      <td>NaN</td>\n      <td>NaN</td>\n    </tr>\n    <tr>\n      <th>30430</th>\n      <td>Netherlands</td>\n      <td>1870</td>\n      <td>3609009.0</td>\n      <td>37.320000</td>\n      <td>0.028828</td>\n      <td>NaN</td>\n      <td>2.89</td>\n      <td>NaN</td>\n      <td>NaN</td>\n      <td>NaN</td>\n      <td>NaN</td>\n      <td>NaN</td>\n      <td>NaN</td>\n      <td>NaN</td>\n      <td>NaN</td>\n      <td>NaN</td>\n    </tr>\n    <tr>\n      <th>32568</th>\n      <td>Norway</td>\n      <td>1870</td>\n      <td>1736968.0</td>\n      <td>50.849998</td>\n      <td>0.013875</td>\n      <td>NaN</td>\n      <td>3.82</td>\n      <td>NaN</td>\n      <td>NaN</td>\n      <td>NaN</td>\n      <td>NaN</td>\n      <td>NaN</td>\n      <td>NaN</td>\n      <td>NaN</td>\n      <td>NaN</td>\n      <td>NaN</td>\n    </tr>\n    <tr>\n      <th>42380</th>\n      <td>Sweden</td>\n      <td>1870</td>\n      <td>4168145.0</td>\n      <td>44.970001</td>\n      <td>0.033295</td>\n      <td>NaN</td>\n      <td>3.51</td>\n      <td>NaN</td>\n      <td>NaN</td>\n      <td>NaN</td>\n      <td>NaN</td>\n      <td>NaN</td>\n      <td>NaN</td>\n      <td>NaN</td>\n      <td>NaN</td>\n      <td>NaN</td>\n    </tr>\n    <tr>\n      <th>46846</th>\n      <td>United Kingdom</td>\n      <td>1870</td>\n      <td>31518027.0</td>\n      <td>40.605000</td>\n      <td>0.251763</td>\n      <td>NaN</td>\n      <td>0.80</td>\n      <td>NaN</td>\n      <td>NaN</td>\n      <td>NaN</td>\n      <td>NaN</td>\n      <td>NaN</td>\n      <td>NaN</td>\n      <td>NaN</td>\n      <td>NaN</td>\n      <td>NaN</td>\n    </tr>\n  </tbody>\n</table>\n</div>"
     },
     "execution_count": 891,
     "metadata": {},
     "output_type": "execute_result"
    }
   ],
   "source": [
    "# take a look at dataframe to see how its been populated based on equation above\n",
    "\n",
    "factors.loc[(factors['Year'] == 1870) & (pd.notna(factors['Life expectancy']))]"
   ]
  },
  {
   "cell_type": "code",
   "execution_count": 892,
   "id": "d196412b",
   "metadata": {},
   "outputs": [
    {
     "data": {
      "text/plain": "            Entity  Year  Population (historical estimates)  Life expectancy  \\\n70     Afghanistan  1870                          4142928.0              NaN   \n292        Albania  1870                           606465.0              NaN   \n514        Algeria  1870                          3461795.0              NaN   \n1576     Argentina  1870                          1793839.0              NaN   \n2242     Australia  1870                          1759825.0              NaN   \n...            ...   ...                                ...              ...   \n47512      Uruguay  1870                           342659.0              NaN   \n48400    Venezuela  1870                          1700687.0              NaN   \n49138        Yemen  1870                          2813705.0              NaN   \n49360       Zambia  1870                          1597641.0              NaN   \n49582     Zimbabwe  1870                           812080.0              NaN   \n\n       Life Expectancy Weight  Weighted Life Expectancy  \\\n70                        NaN                       NaN   \n292                       NaN                       NaN   \n514                       NaN                       NaN   \n1576                      NaN                       NaN   \n2242                      NaN                       NaN   \n...                       ...                       ...   \n47512                     NaN                       NaN   \n48400                     NaN                       NaN   \n49138                     NaN                       NaN   \n49360                     NaN                       NaN   \n49582                     NaN                       NaN   \n\n       Average Total Years of Schooling for Adult Population (Lee-Lee (2016), Barro-Lee (2018) and UNDP (2018))  \\\n70                                                  0.01                                                          \n292                                                 0.02                                                          \n514                                                 0.08                                                          \n1576                                                0.28                                                          \n2242                                                1.61                                                          \n...                                                  ...                                                          \n47512                                               0.24                                                          \n48400                                               0.01                                                          \n49138                                               0.01                                                          \n49360                                               0.01                                                          \n49582                                               0.01                                                          \n\n       YOS Weight  Weighted YOS  Expected Years of Schooling (years)  \\\n70            NaN           NaN                                  NaN   \n292           NaN           NaN                                  NaN   \n514           NaN           NaN                                  NaN   \n1576          NaN           NaN                                  NaN   \n2242          NaN           NaN                                  NaN   \n...           ...           ...                                  ...   \n47512         NaN           NaN                                  NaN   \n48400         NaN           NaN                                  NaN   \n49138         NaN           NaN                                  NaN   \n49360         NaN           NaN                                  NaN   \n49582         NaN           NaN                                  NaN   \n\n       Expected YOS Weight  Weighted Expected YOS  \\\n70                     NaN                    NaN   \n292                    NaN                    NaN   \n514                    NaN                    NaN   \n1576                   NaN                    NaN   \n2242                   NaN                    NaN   \n...                    ...                    ...   \n47512                  NaN                    NaN   \n48400                  NaN                    NaN   \n49138                  NaN                    NaN   \n49360                  NaN                    NaN   \n49582                  NaN                    NaN   \n\n       GNI per capita, PPP (constant 2017 international $)  GNI Weight  \\\n70                                                   NaN           NaN   \n292                                                  NaN           NaN   \n514                                                  NaN           NaN   \n1576                                                 NaN           NaN   \n2242                                                 NaN           NaN   \n...                                                  ...           ...   \n47512                                                NaN           NaN   \n48400                                                NaN           NaN   \n49138                                                NaN           NaN   \n49360                                                NaN           NaN   \n49582                                                NaN           NaN   \n\n       Weighted GNI  Actual Human Development Index (UNDP)  \n70              NaN                                    NaN  \n292             NaN                                    NaN  \n514             NaN                                    NaN  \n1576            NaN                                    NaN  \n2242            NaN                                    NaN  \n...             ...                                    ...  \n47512           NaN                                    NaN  \n48400           NaN                                    NaN  \n49138           NaN                                    NaN  \n49360           NaN                                    NaN  \n49582           NaN                                    NaN  \n\n[111 rows x 16 columns]",
      "text/html": "<div>\n<style scoped>\n    .dataframe tbody tr th:only-of-type {\n        vertical-align: middle;\n    }\n\n    .dataframe tbody tr th {\n        vertical-align: top;\n    }\n\n    .dataframe thead th {\n        text-align: right;\n    }\n</style>\n<table border=\"1\" class=\"dataframe\">\n  <thead>\n    <tr style=\"text-align: right;\">\n      <th></th>\n      <th>Entity</th>\n      <th>Year</th>\n      <th>Population (historical estimates)</th>\n      <th>Life expectancy</th>\n      <th>Life Expectancy Weight</th>\n      <th>Weighted Life Expectancy</th>\n      <th>Average Total Years of Schooling for Adult Population (Lee-Lee (2016), Barro-Lee (2018) and UNDP (2018))</th>\n      <th>YOS Weight</th>\n      <th>Weighted YOS</th>\n      <th>Expected Years of Schooling (years)</th>\n      <th>Expected YOS Weight</th>\n      <th>Weighted Expected YOS</th>\n      <th>GNI per capita, PPP (constant 2017 international $)</th>\n      <th>GNI Weight</th>\n      <th>Weighted GNI</th>\n      <th>Actual Human Development Index (UNDP)</th>\n    </tr>\n  </thead>\n  <tbody>\n    <tr>\n      <th>70</th>\n      <td>Afghanistan</td>\n      <td>1870</td>\n      <td>4142928.0</td>\n      <td>NaN</td>\n      <td>NaN</td>\n      <td>NaN</td>\n      <td>0.01</td>\n      <td>NaN</td>\n      <td>NaN</td>\n      <td>NaN</td>\n      <td>NaN</td>\n      <td>NaN</td>\n      <td>NaN</td>\n      <td>NaN</td>\n      <td>NaN</td>\n      <td>NaN</td>\n    </tr>\n    <tr>\n      <th>292</th>\n      <td>Albania</td>\n      <td>1870</td>\n      <td>606465.0</td>\n      <td>NaN</td>\n      <td>NaN</td>\n      <td>NaN</td>\n      <td>0.02</td>\n      <td>NaN</td>\n      <td>NaN</td>\n      <td>NaN</td>\n      <td>NaN</td>\n      <td>NaN</td>\n      <td>NaN</td>\n      <td>NaN</td>\n      <td>NaN</td>\n      <td>NaN</td>\n    </tr>\n    <tr>\n      <th>514</th>\n      <td>Algeria</td>\n      <td>1870</td>\n      <td>3461795.0</td>\n      <td>NaN</td>\n      <td>NaN</td>\n      <td>NaN</td>\n      <td>0.08</td>\n      <td>NaN</td>\n      <td>NaN</td>\n      <td>NaN</td>\n      <td>NaN</td>\n      <td>NaN</td>\n      <td>NaN</td>\n      <td>NaN</td>\n      <td>NaN</td>\n      <td>NaN</td>\n    </tr>\n    <tr>\n      <th>1576</th>\n      <td>Argentina</td>\n      <td>1870</td>\n      <td>1793839.0</td>\n      <td>NaN</td>\n      <td>NaN</td>\n      <td>NaN</td>\n      <td>0.28</td>\n      <td>NaN</td>\n      <td>NaN</td>\n      <td>NaN</td>\n      <td>NaN</td>\n      <td>NaN</td>\n      <td>NaN</td>\n      <td>NaN</td>\n      <td>NaN</td>\n      <td>NaN</td>\n    </tr>\n    <tr>\n      <th>2242</th>\n      <td>Australia</td>\n      <td>1870</td>\n      <td>1759825.0</td>\n      <td>NaN</td>\n      <td>NaN</td>\n      <td>NaN</td>\n      <td>1.61</td>\n      <td>NaN</td>\n      <td>NaN</td>\n      <td>NaN</td>\n      <td>NaN</td>\n      <td>NaN</td>\n      <td>NaN</td>\n      <td>NaN</td>\n      <td>NaN</td>\n      <td>NaN</td>\n    </tr>\n    <tr>\n      <th>...</th>\n      <td>...</td>\n      <td>...</td>\n      <td>...</td>\n      <td>...</td>\n      <td>...</td>\n      <td>...</td>\n      <td>...</td>\n      <td>...</td>\n      <td>...</td>\n      <td>...</td>\n      <td>...</td>\n      <td>...</td>\n      <td>...</td>\n      <td>...</td>\n      <td>...</td>\n      <td>...</td>\n    </tr>\n    <tr>\n      <th>47512</th>\n      <td>Uruguay</td>\n      <td>1870</td>\n      <td>342659.0</td>\n      <td>NaN</td>\n      <td>NaN</td>\n      <td>NaN</td>\n      <td>0.24</td>\n      <td>NaN</td>\n      <td>NaN</td>\n      <td>NaN</td>\n      <td>NaN</td>\n      <td>NaN</td>\n      <td>NaN</td>\n      <td>NaN</td>\n      <td>NaN</td>\n      <td>NaN</td>\n    </tr>\n    <tr>\n      <th>48400</th>\n      <td>Venezuela</td>\n      <td>1870</td>\n      <td>1700687.0</td>\n      <td>NaN</td>\n      <td>NaN</td>\n      <td>NaN</td>\n      <td>0.01</td>\n      <td>NaN</td>\n      <td>NaN</td>\n      <td>NaN</td>\n      <td>NaN</td>\n      <td>NaN</td>\n      <td>NaN</td>\n      <td>NaN</td>\n      <td>NaN</td>\n      <td>NaN</td>\n    </tr>\n    <tr>\n      <th>49138</th>\n      <td>Yemen</td>\n      <td>1870</td>\n      <td>2813705.0</td>\n      <td>NaN</td>\n      <td>NaN</td>\n      <td>NaN</td>\n      <td>0.01</td>\n      <td>NaN</td>\n      <td>NaN</td>\n      <td>NaN</td>\n      <td>NaN</td>\n      <td>NaN</td>\n      <td>NaN</td>\n      <td>NaN</td>\n      <td>NaN</td>\n      <td>NaN</td>\n    </tr>\n    <tr>\n      <th>49360</th>\n      <td>Zambia</td>\n      <td>1870</td>\n      <td>1597641.0</td>\n      <td>NaN</td>\n      <td>NaN</td>\n      <td>NaN</td>\n      <td>0.01</td>\n      <td>NaN</td>\n      <td>NaN</td>\n      <td>NaN</td>\n      <td>NaN</td>\n      <td>NaN</td>\n      <td>NaN</td>\n      <td>NaN</td>\n      <td>NaN</td>\n      <td>NaN</td>\n    </tr>\n    <tr>\n      <th>49582</th>\n      <td>Zimbabwe</td>\n      <td>1870</td>\n      <td>812080.0</td>\n      <td>NaN</td>\n      <td>NaN</td>\n      <td>NaN</td>\n      <td>0.01</td>\n      <td>NaN</td>\n      <td>NaN</td>\n      <td>NaN</td>\n      <td>NaN</td>\n      <td>NaN</td>\n      <td>NaN</td>\n      <td>NaN</td>\n      <td>NaN</td>\n      <td>NaN</td>\n    </tr>\n  </tbody>\n</table>\n<p>111 rows × 16 columns</p>\n</div>"
     },
     "execution_count": 892,
     "metadata": {},
     "output_type": "execute_result"
    }
   ],
   "source": [
    "factors.loc[factors['Year'] == 1870]"
   ]
  },
  {
   "cell_type": "code",
   "execution_count": 893,
   "id": "d3a2cb9f-9b02-4303-a17e-338a737dd222",
   "metadata": {},
   "outputs": [],
   "source": [
    "# go through all rows of dataframe and find weights for all factors based on year and that factor column is not nan\n",
    "\n",
    "for year in range(1800, 2020):\n",
    "    factors['Life Expectancy Weight'].loc[(factors['Year'] == year) & (pd.notna(factors['Life expectancy']))] = (\n",
    "        factors['Population (historical estimates)'].loc[(factors['Year'] == year) \n",
    "                                                         & (pd.notna(factors['Life expectancy']))] \n",
    "        / factors['Population (historical estimates)'].loc[(factors['Year'] == year) \n",
    "                                                           & (pd.notna(factors['Life expectancy']))].sum())\n",
    "    \n",
    "    \n",
    "    factors['YOS Weight'].loc[(factors['Year'] == year) & (pd.notna(factors['Average Total Years of Schooling for Adult Population (Lee-Lee (2016), Barro-Lee (2018) and UNDP (2018))']))] = (\n",
    "        factors['Population (historical estimates)'].loc[(factors['Year'] == year) \n",
    "                                                         & (pd.notna(factors['Average Total Years of Schooling for Adult Population (Lee-Lee (2016), Barro-Lee (2018) and UNDP (2018))']))] \n",
    "        / factors['Population (historical estimates)'].loc[(factors['Year'] == year) \n",
    "                                                           & (pd.notna(factors['Average Total Years of Schooling for Adult Population (Lee-Lee (2016), Barro-Lee (2018) and UNDP (2018))']))].sum())\n",
    "    \n",
    "    factors['Expected YOS Weight'].loc[(factors['Year'] == year) & (pd.notna(factors['Expected Years of Schooling (years)']))] = (\n",
    "        factors['Population (historical estimates)'].loc[(factors['Year'] == year) \n",
    "                                                         & (pd.notna(factors['Expected Years of Schooling (years)']))] \n",
    "        / factors['Population (historical estimates)'].loc[(factors['Year'] == year) \n",
    "                                                           & (pd.notna(factors['Expected Years of Schooling (years)']))].sum())\n",
    "    \n",
    "    factors['GNI Weight'].loc[(factors['Year'] == year) & (pd.notna(factors['GNI per capita, PPP (constant 2017 international $)']))] = (\n",
    "        factors['Population (historical estimates)'].loc[(factors['Year'] == year) \n",
    "                                                         & (pd.notna(factors['GNI per capita, PPP (constant 2017 international $)']))] \n",
    "        / factors['Population (historical estimates)'].loc[(factors['Year'] == year) \n",
    "                                                           & (pd.notna(factors['GNI per capita, PPP (constant 2017 international $)']))].sum())"
   ]
  },
  {
   "cell_type": "code",
   "execution_count": 894,
   "id": "f2703942-6ed7-4024-b6c1-79f90ee34186",
   "metadata": {},
   "outputs": [
    {
     "data": {
      "text/plain": "               Entity  Year  Population (historical estimates)  \\\n1606        Argentina  1900                          4689224.0   \n3826          Belarus  1900                          4909551.0   \n4048          Belgium  1900                          6717693.0   \n5008          Bolivia  1900                          1809836.0   \n5746           Brazil  1900                         18063384.0   \n6262         Bulgaria  1900                          3994654.0   \n8554            Chile  1900                          3135464.0   \n8998         Colombia  1900                          4089052.0   \n9736       Costa Rica  1900                           316531.0   \n10402            Cuba  1900                          1718198.0   \n10918         Czechia  1900                          9334000.0   \n11363         Denmark  1900                          2565597.0   \n13361         Estonia  1900                           872770.0   \n14452         Finland  1900                          2641828.0   \n14674          France  1900                         40013112.0   \n17632       Guatemala  1900                          1357590.0   \n19186         Hungary  1900                          7106099.0   \n19408         Iceland  1900                            77857.0   \n21034           Italy  1900                         33442744.0   \n21256         Jamaica  1900                           725908.0   \n21478           Japan  1900                         43805856.0   \n21922      Kazakhstan  1900                          4183928.0   \n24601       Lithuania  1900                          2525068.0   \n27709          Mexico  1900                         13383654.0   \n30460     Netherlands  1900                          5120625.0   \n32598          Norway  1900                          2224417.0   \n34152        Paraguay  1900                           456307.0   \n36158          Russia  1900                         64946671.0   \n41265           Spain  1900                         18592431.0   \n42410          Sweden  1900                          5120942.0   \n42632     Switzerland  1900                          3284773.0   \n46121         Ukraine  1900                         23477813.0   \n46876  United Kingdom  1900                         41433090.0   \n47542         Uruguay  1900                           921056.0   \n48430       Venezuela  1900                          2697074.0   \n\n       Life expectancy  Life Expectancy Weight  Weighted Life Expectancy  \\\n1606         39.000000                0.012348                       NaN   \n3826         36.200001                0.012928                       NaN   \n4048         46.520000                0.017690                       NaN   \n5008         26.000000                0.004766                       NaN   \n5746         29.000000                0.047566                       NaN   \n6262         40.200001                0.010519                       NaN   \n8554         29.000000                0.008257                       NaN   \n8998         29.000000                0.010768                       NaN   \n9736         32.000000                0.000834                       NaN   \n10402        32.000000                0.004524                       NaN   \n10918        40.266159                0.024579                       NaN   \n11363        51.869999                0.006756                       NaN   \n13361        43.099998                0.002298                       NaN   \n14452        41.740002                0.006957                       NaN   \n14674        45.009998                0.105366                       NaN   \n17632        24.000000                0.003575                       NaN   \n19186        37.335918                0.018712                       NaN   \n19408        46.650002                0.000205                       NaN   \n21034        41.669998                0.088064                       NaN   \n21256        37.799999                0.001912                       NaN   \n21478        38.599998                0.115353                       NaN   \n21922        28.100000                0.011017                       NaN   \n24601        41.700001                0.006649                       NaN   \n27709        25.000000                0.035243                       NaN   \n30460        48.380001                0.013484                       NaN   \n32598        53.470001                0.005858                       NaN   \n34152        25.000000                0.001202                       NaN   \n36158        30.500000                0.171023                       NaN   \n41265        34.799999                0.048959                       NaN   \n42410        52.209999                0.013485                       NaN   \n42632        47.480000                0.008650                       NaN   \n46121        36.599998                0.061824                       NaN   \n46876        45.619999                0.109105                       NaN   \n47542        49.000000                0.002425                       NaN   \n48430        28.000000                0.007102                       NaN   \n\n       Average Total Years of Schooling for Adult Population (Lee-Lee (2016), Barro-Lee (2018) and UNDP (2018))  \\\n1606                                                0.78                                                          \n3826                                                 NaN                                                          \n4048                                                2.58                                                          \n5008                                                0.17                                                          \n5746                                                0.47                                                          \n6262                                                1.33                                                          \n8554                                                1.30                                                          \n8998                                                0.74                                                          \n9736                                                1.21                                                          \n10402                                               0.38                                                          \n10918                                               3.65                                                          \n11363                                               2.76                                                          \n13361                                                NaN                                                          \n14452                                               0.80                                                          \n14674                                               1.97                                                          \n17632                                               0.64                                                          \n19186                                               3.03                                                          \n19408                                               1.29                                                          \n21034                                               1.47                                                          \n21256                                               1.52                                                          \n21478                                               1.29                                                          \n21922                                                NaN                                                          \n24601                                                NaN                                                          \n27709                                               0.76                                                          \n30460                                               3.35                                                          \n32598                                               5.31                                                          \n34152                                               0.55                                                          \n36158                                               0.30                                                          \n41265                                               3.07                                                          \n42410                                               4.21                                                          \n42632                                               5.10                                                          \n46121                                                NaN                                                          \n46876                                               1.96                                                          \n47542                                               0.80                                                          \n48430                                               0.32                                                          \n\n       YOS Weight  Weighted YOS  Expected Years of Schooling (years)  \\\n1606     0.003135           NaN                                  NaN   \n3826          NaN           NaN                                  NaN   \n4048     0.004491           NaN                                  NaN   \n5008     0.001210           NaN                                  NaN   \n5746     0.012077           NaN                                  NaN   \n6262     0.002671           NaN                                  NaN   \n8554     0.002096           NaN                                  NaN   \n8998     0.002734           NaN                                  NaN   \n9736     0.000212           NaN                                  NaN   \n10402    0.001149           NaN                                  NaN   \n10918    0.006240           NaN                                  NaN   \n11363    0.001715           NaN                                  NaN   \n13361         NaN           NaN                                  NaN   \n14452    0.001766           NaN                                  NaN   \n14674    0.026752           NaN                                  NaN   \n17632    0.000908           NaN                                  NaN   \n19186    0.004751           NaN                                  NaN   \n19408    0.000052           NaN                                  NaN   \n21034    0.022359           NaN                                  NaN   \n21256    0.000485           NaN                                  NaN   \n21478    0.029287           NaN                                  NaN   \n21922         NaN           NaN                                  NaN   \n24601         NaN           NaN                                  NaN   \n27709    0.008948           NaN                                  NaN   \n30460    0.003423           NaN                                  NaN   \n32598    0.001487           NaN                                  NaN   \n34152    0.000305           NaN                                  NaN   \n36158    0.043421           NaN                                  NaN   \n41265    0.012430           NaN                                  NaN   \n42410    0.003424           NaN                                  NaN   \n42632    0.002196           NaN                                  NaN   \n46121         NaN           NaN                                  NaN   \n46876    0.027701           NaN                                  NaN   \n47542    0.000616           NaN                                  NaN   \n48430    0.001803           NaN                                  NaN   \n\n       Expected YOS Weight  Weighted Expected YOS  \\\n1606                   NaN                    NaN   \n3826                   NaN                    NaN   \n4048                   NaN                    NaN   \n5008                   NaN                    NaN   \n5746                   NaN                    NaN   \n6262                   NaN                    NaN   \n8554                   NaN                    NaN   \n8998                   NaN                    NaN   \n9736                   NaN                    NaN   \n10402                  NaN                    NaN   \n10918                  NaN                    NaN   \n11363                  NaN                    NaN   \n13361                  NaN                    NaN   \n14452                  NaN                    NaN   \n14674                  NaN                    NaN   \n17632                  NaN                    NaN   \n19186                  NaN                    NaN   \n19408                  NaN                    NaN   \n21034                  NaN                    NaN   \n21256                  NaN                    NaN   \n21478                  NaN                    NaN   \n21922                  NaN                    NaN   \n24601                  NaN                    NaN   \n27709                  NaN                    NaN   \n30460                  NaN                    NaN   \n32598                  NaN                    NaN   \n34152                  NaN                    NaN   \n36158                  NaN                    NaN   \n41265                  NaN                    NaN   \n42410                  NaN                    NaN   \n42632                  NaN                    NaN   \n46121                  NaN                    NaN   \n46876                  NaN                    NaN   \n47542                  NaN                    NaN   \n48430                  NaN                    NaN   \n\n       GNI per capita, PPP (constant 2017 international $)  GNI Weight  \\\n1606                                                 NaN           NaN   \n3826                                                 NaN           NaN   \n4048                                                 NaN           NaN   \n5008                                                 NaN           NaN   \n5746                                                 NaN           NaN   \n6262                                                 NaN           NaN   \n8554                                                 NaN           NaN   \n8998                                                 NaN           NaN   \n9736                                                 NaN           NaN   \n10402                                                NaN           NaN   \n10918                                                NaN           NaN   \n11363                                                NaN           NaN   \n13361                                                NaN           NaN   \n14452                                                NaN           NaN   \n14674                                                NaN           NaN   \n17632                                                NaN           NaN   \n19186                                                NaN           NaN   \n19408                                                NaN           NaN   \n21034                                                NaN           NaN   \n21256                                                NaN           NaN   \n21478                                                NaN           NaN   \n21922                                                NaN           NaN   \n24601                                                NaN           NaN   \n27709                                                NaN           NaN   \n30460                                                NaN           NaN   \n32598                                                NaN           NaN   \n34152                                                NaN           NaN   \n36158                                                NaN           NaN   \n41265                                                NaN           NaN   \n42410                                                NaN           NaN   \n42632                                                NaN           NaN   \n46121                                                NaN           NaN   \n46876                                                NaN           NaN   \n47542                                                NaN           NaN   \n48430                                                NaN           NaN   \n\n       Weighted GNI  Actual Human Development Index (UNDP)  \n1606            NaN                                    NaN  \n3826            NaN                                    NaN  \n4048            NaN                                    NaN  \n5008            NaN                                    NaN  \n5746            NaN                                    NaN  \n6262            NaN                                    NaN  \n8554            NaN                                    NaN  \n8998            NaN                                    NaN  \n9736            NaN                                    NaN  \n10402           NaN                                    NaN  \n10918           NaN                                    NaN  \n11363           NaN                                    NaN  \n13361           NaN                                    NaN  \n14452           NaN                                    NaN  \n14674           NaN                                    NaN  \n17632           NaN                                    NaN  \n19186           NaN                                    NaN  \n19408           NaN                                    NaN  \n21034           NaN                                    NaN  \n21256           NaN                                    NaN  \n21478           NaN                                    NaN  \n21922           NaN                                    NaN  \n24601           NaN                                    NaN  \n27709           NaN                                    NaN  \n30460           NaN                                    NaN  \n32598           NaN                                    NaN  \n34152           NaN                                    NaN  \n36158           NaN                                    NaN  \n41265           NaN                                    NaN  \n42410           NaN                                    NaN  \n42632           NaN                                    NaN  \n46121           NaN                                    NaN  \n46876           NaN                                    NaN  \n47542           NaN                                    NaN  \n48430           NaN                                    NaN  ",
      "text/html": "<div>\n<style scoped>\n    .dataframe tbody tr th:only-of-type {\n        vertical-align: middle;\n    }\n\n    .dataframe tbody tr th {\n        vertical-align: top;\n    }\n\n    .dataframe thead th {\n        text-align: right;\n    }\n</style>\n<table border=\"1\" class=\"dataframe\">\n  <thead>\n    <tr style=\"text-align: right;\">\n      <th></th>\n      <th>Entity</th>\n      <th>Year</th>\n      <th>Population (historical estimates)</th>\n      <th>Life expectancy</th>\n      <th>Life Expectancy Weight</th>\n      <th>Weighted Life Expectancy</th>\n      <th>Average Total Years of Schooling for Adult Population (Lee-Lee (2016), Barro-Lee (2018) and UNDP (2018))</th>\n      <th>YOS Weight</th>\n      <th>Weighted YOS</th>\n      <th>Expected Years of Schooling (years)</th>\n      <th>Expected YOS Weight</th>\n      <th>Weighted Expected YOS</th>\n      <th>GNI per capita, PPP (constant 2017 international $)</th>\n      <th>GNI Weight</th>\n      <th>Weighted GNI</th>\n      <th>Actual Human Development Index (UNDP)</th>\n    </tr>\n  </thead>\n  <tbody>\n    <tr>\n      <th>1606</th>\n      <td>Argentina</td>\n      <td>1900</td>\n      <td>4689224.0</td>\n      <td>39.000000</td>\n      <td>0.012348</td>\n      <td>NaN</td>\n      <td>0.78</td>\n      <td>0.003135</td>\n      <td>NaN</td>\n      <td>NaN</td>\n      <td>NaN</td>\n      <td>NaN</td>\n      <td>NaN</td>\n      <td>NaN</td>\n      <td>NaN</td>\n      <td>NaN</td>\n    </tr>\n    <tr>\n      <th>3826</th>\n      <td>Belarus</td>\n      <td>1900</td>\n      <td>4909551.0</td>\n      <td>36.200001</td>\n      <td>0.012928</td>\n      <td>NaN</td>\n      <td>NaN</td>\n      <td>NaN</td>\n      <td>NaN</td>\n      <td>NaN</td>\n      <td>NaN</td>\n      <td>NaN</td>\n      <td>NaN</td>\n      <td>NaN</td>\n      <td>NaN</td>\n      <td>NaN</td>\n    </tr>\n    <tr>\n      <th>4048</th>\n      <td>Belgium</td>\n      <td>1900</td>\n      <td>6717693.0</td>\n      <td>46.520000</td>\n      <td>0.017690</td>\n      <td>NaN</td>\n      <td>2.58</td>\n      <td>0.004491</td>\n      <td>NaN</td>\n      <td>NaN</td>\n      <td>NaN</td>\n      <td>NaN</td>\n      <td>NaN</td>\n      <td>NaN</td>\n      <td>NaN</td>\n      <td>NaN</td>\n    </tr>\n    <tr>\n      <th>5008</th>\n      <td>Bolivia</td>\n      <td>1900</td>\n      <td>1809836.0</td>\n      <td>26.000000</td>\n      <td>0.004766</td>\n      <td>NaN</td>\n      <td>0.17</td>\n      <td>0.001210</td>\n      <td>NaN</td>\n      <td>NaN</td>\n      <td>NaN</td>\n      <td>NaN</td>\n      <td>NaN</td>\n      <td>NaN</td>\n      <td>NaN</td>\n      <td>NaN</td>\n    </tr>\n    <tr>\n      <th>5746</th>\n      <td>Brazil</td>\n      <td>1900</td>\n      <td>18063384.0</td>\n      <td>29.000000</td>\n      <td>0.047566</td>\n      <td>NaN</td>\n      <td>0.47</td>\n      <td>0.012077</td>\n      <td>NaN</td>\n      <td>NaN</td>\n      <td>NaN</td>\n      <td>NaN</td>\n      <td>NaN</td>\n      <td>NaN</td>\n      <td>NaN</td>\n      <td>NaN</td>\n    </tr>\n    <tr>\n      <th>6262</th>\n      <td>Bulgaria</td>\n      <td>1900</td>\n      <td>3994654.0</td>\n      <td>40.200001</td>\n      <td>0.010519</td>\n      <td>NaN</td>\n      <td>1.33</td>\n      <td>0.002671</td>\n      <td>NaN</td>\n      <td>NaN</td>\n      <td>NaN</td>\n      <td>NaN</td>\n      <td>NaN</td>\n      <td>NaN</td>\n      <td>NaN</td>\n      <td>NaN</td>\n    </tr>\n    <tr>\n      <th>8554</th>\n      <td>Chile</td>\n      <td>1900</td>\n      <td>3135464.0</td>\n      <td>29.000000</td>\n      <td>0.008257</td>\n      <td>NaN</td>\n      <td>1.30</td>\n      <td>0.002096</td>\n      <td>NaN</td>\n      <td>NaN</td>\n      <td>NaN</td>\n      <td>NaN</td>\n      <td>NaN</td>\n      <td>NaN</td>\n      <td>NaN</td>\n      <td>NaN</td>\n    </tr>\n    <tr>\n      <th>8998</th>\n      <td>Colombia</td>\n      <td>1900</td>\n      <td>4089052.0</td>\n      <td>29.000000</td>\n      <td>0.010768</td>\n      <td>NaN</td>\n      <td>0.74</td>\n      <td>0.002734</td>\n      <td>NaN</td>\n      <td>NaN</td>\n      <td>NaN</td>\n      <td>NaN</td>\n      <td>NaN</td>\n      <td>NaN</td>\n      <td>NaN</td>\n      <td>NaN</td>\n    </tr>\n    <tr>\n      <th>9736</th>\n      <td>Costa Rica</td>\n      <td>1900</td>\n      <td>316531.0</td>\n      <td>32.000000</td>\n      <td>0.000834</td>\n      <td>NaN</td>\n      <td>1.21</td>\n      <td>0.000212</td>\n      <td>NaN</td>\n      <td>NaN</td>\n      <td>NaN</td>\n      <td>NaN</td>\n      <td>NaN</td>\n      <td>NaN</td>\n      <td>NaN</td>\n      <td>NaN</td>\n    </tr>\n    <tr>\n      <th>10402</th>\n      <td>Cuba</td>\n      <td>1900</td>\n      <td>1718198.0</td>\n      <td>32.000000</td>\n      <td>0.004524</td>\n      <td>NaN</td>\n      <td>0.38</td>\n      <td>0.001149</td>\n      <td>NaN</td>\n      <td>NaN</td>\n      <td>NaN</td>\n      <td>NaN</td>\n      <td>NaN</td>\n      <td>NaN</td>\n      <td>NaN</td>\n      <td>NaN</td>\n    </tr>\n    <tr>\n      <th>10918</th>\n      <td>Czechia</td>\n      <td>1900</td>\n      <td>9334000.0</td>\n      <td>40.266159</td>\n      <td>0.024579</td>\n      <td>NaN</td>\n      <td>3.65</td>\n      <td>0.006240</td>\n      <td>NaN</td>\n      <td>NaN</td>\n      <td>NaN</td>\n      <td>NaN</td>\n      <td>NaN</td>\n      <td>NaN</td>\n      <td>NaN</td>\n      <td>NaN</td>\n    </tr>\n    <tr>\n      <th>11363</th>\n      <td>Denmark</td>\n      <td>1900</td>\n      <td>2565597.0</td>\n      <td>51.869999</td>\n      <td>0.006756</td>\n      <td>NaN</td>\n      <td>2.76</td>\n      <td>0.001715</td>\n      <td>NaN</td>\n      <td>NaN</td>\n      <td>NaN</td>\n      <td>NaN</td>\n      <td>NaN</td>\n      <td>NaN</td>\n      <td>NaN</td>\n      <td>NaN</td>\n    </tr>\n    <tr>\n      <th>13361</th>\n      <td>Estonia</td>\n      <td>1900</td>\n      <td>872770.0</td>\n      <td>43.099998</td>\n      <td>0.002298</td>\n      <td>NaN</td>\n      <td>NaN</td>\n      <td>NaN</td>\n      <td>NaN</td>\n      <td>NaN</td>\n      <td>NaN</td>\n      <td>NaN</td>\n      <td>NaN</td>\n      <td>NaN</td>\n      <td>NaN</td>\n      <td>NaN</td>\n    </tr>\n    <tr>\n      <th>14452</th>\n      <td>Finland</td>\n      <td>1900</td>\n      <td>2641828.0</td>\n      <td>41.740002</td>\n      <td>0.006957</td>\n      <td>NaN</td>\n      <td>0.80</td>\n      <td>0.001766</td>\n      <td>NaN</td>\n      <td>NaN</td>\n      <td>NaN</td>\n      <td>NaN</td>\n      <td>NaN</td>\n      <td>NaN</td>\n      <td>NaN</td>\n      <td>NaN</td>\n    </tr>\n    <tr>\n      <th>14674</th>\n      <td>France</td>\n      <td>1900</td>\n      <td>40013112.0</td>\n      <td>45.009998</td>\n      <td>0.105366</td>\n      <td>NaN</td>\n      <td>1.97</td>\n      <td>0.026752</td>\n      <td>NaN</td>\n      <td>NaN</td>\n      <td>NaN</td>\n      <td>NaN</td>\n      <td>NaN</td>\n      <td>NaN</td>\n      <td>NaN</td>\n      <td>NaN</td>\n    </tr>\n    <tr>\n      <th>17632</th>\n      <td>Guatemala</td>\n      <td>1900</td>\n      <td>1357590.0</td>\n      <td>24.000000</td>\n      <td>0.003575</td>\n      <td>NaN</td>\n      <td>0.64</td>\n      <td>0.000908</td>\n      <td>NaN</td>\n      <td>NaN</td>\n      <td>NaN</td>\n      <td>NaN</td>\n      <td>NaN</td>\n      <td>NaN</td>\n      <td>NaN</td>\n      <td>NaN</td>\n    </tr>\n    <tr>\n      <th>19186</th>\n      <td>Hungary</td>\n      <td>1900</td>\n      <td>7106099.0</td>\n      <td>37.335918</td>\n      <td>0.018712</td>\n      <td>NaN</td>\n      <td>3.03</td>\n      <td>0.004751</td>\n      <td>NaN</td>\n      <td>NaN</td>\n      <td>NaN</td>\n      <td>NaN</td>\n      <td>NaN</td>\n      <td>NaN</td>\n      <td>NaN</td>\n      <td>NaN</td>\n    </tr>\n    <tr>\n      <th>19408</th>\n      <td>Iceland</td>\n      <td>1900</td>\n      <td>77857.0</td>\n      <td>46.650002</td>\n      <td>0.000205</td>\n      <td>NaN</td>\n      <td>1.29</td>\n      <td>0.000052</td>\n      <td>NaN</td>\n      <td>NaN</td>\n      <td>NaN</td>\n      <td>NaN</td>\n      <td>NaN</td>\n      <td>NaN</td>\n      <td>NaN</td>\n      <td>NaN</td>\n    </tr>\n    <tr>\n      <th>21034</th>\n      <td>Italy</td>\n      <td>1900</td>\n      <td>33442744.0</td>\n      <td>41.669998</td>\n      <td>0.088064</td>\n      <td>NaN</td>\n      <td>1.47</td>\n      <td>0.022359</td>\n      <td>NaN</td>\n      <td>NaN</td>\n      <td>NaN</td>\n      <td>NaN</td>\n      <td>NaN</td>\n      <td>NaN</td>\n      <td>NaN</td>\n      <td>NaN</td>\n    </tr>\n    <tr>\n      <th>21256</th>\n      <td>Jamaica</td>\n      <td>1900</td>\n      <td>725908.0</td>\n      <td>37.799999</td>\n      <td>0.001912</td>\n      <td>NaN</td>\n      <td>1.52</td>\n      <td>0.000485</td>\n      <td>NaN</td>\n      <td>NaN</td>\n      <td>NaN</td>\n      <td>NaN</td>\n      <td>NaN</td>\n      <td>NaN</td>\n      <td>NaN</td>\n      <td>NaN</td>\n    </tr>\n    <tr>\n      <th>21478</th>\n      <td>Japan</td>\n      <td>1900</td>\n      <td>43805856.0</td>\n      <td>38.599998</td>\n      <td>0.115353</td>\n      <td>NaN</td>\n      <td>1.29</td>\n      <td>0.029287</td>\n      <td>NaN</td>\n      <td>NaN</td>\n      <td>NaN</td>\n      <td>NaN</td>\n      <td>NaN</td>\n      <td>NaN</td>\n      <td>NaN</td>\n      <td>NaN</td>\n    </tr>\n    <tr>\n      <th>21922</th>\n      <td>Kazakhstan</td>\n      <td>1900</td>\n      <td>4183928.0</td>\n      <td>28.100000</td>\n      <td>0.011017</td>\n      <td>NaN</td>\n      <td>NaN</td>\n      <td>NaN</td>\n      <td>NaN</td>\n      <td>NaN</td>\n      <td>NaN</td>\n      <td>NaN</td>\n      <td>NaN</td>\n      <td>NaN</td>\n      <td>NaN</td>\n      <td>NaN</td>\n    </tr>\n    <tr>\n      <th>24601</th>\n      <td>Lithuania</td>\n      <td>1900</td>\n      <td>2525068.0</td>\n      <td>41.700001</td>\n      <td>0.006649</td>\n      <td>NaN</td>\n      <td>NaN</td>\n      <td>NaN</td>\n      <td>NaN</td>\n      <td>NaN</td>\n      <td>NaN</td>\n      <td>NaN</td>\n      <td>NaN</td>\n      <td>NaN</td>\n      <td>NaN</td>\n      <td>NaN</td>\n    </tr>\n    <tr>\n      <th>27709</th>\n      <td>Mexico</td>\n      <td>1900</td>\n      <td>13383654.0</td>\n      <td>25.000000</td>\n      <td>0.035243</td>\n      <td>NaN</td>\n      <td>0.76</td>\n      <td>0.008948</td>\n      <td>NaN</td>\n      <td>NaN</td>\n      <td>NaN</td>\n      <td>NaN</td>\n      <td>NaN</td>\n      <td>NaN</td>\n      <td>NaN</td>\n      <td>NaN</td>\n    </tr>\n    <tr>\n      <th>30460</th>\n      <td>Netherlands</td>\n      <td>1900</td>\n      <td>5120625.0</td>\n      <td>48.380001</td>\n      <td>0.013484</td>\n      <td>NaN</td>\n      <td>3.35</td>\n      <td>0.003423</td>\n      <td>NaN</td>\n      <td>NaN</td>\n      <td>NaN</td>\n      <td>NaN</td>\n      <td>NaN</td>\n      <td>NaN</td>\n      <td>NaN</td>\n      <td>NaN</td>\n    </tr>\n    <tr>\n      <th>32598</th>\n      <td>Norway</td>\n      <td>1900</td>\n      <td>2224417.0</td>\n      <td>53.470001</td>\n      <td>0.005858</td>\n      <td>NaN</td>\n      <td>5.31</td>\n      <td>0.001487</td>\n      <td>NaN</td>\n      <td>NaN</td>\n      <td>NaN</td>\n      <td>NaN</td>\n      <td>NaN</td>\n      <td>NaN</td>\n      <td>NaN</td>\n      <td>NaN</td>\n    </tr>\n    <tr>\n      <th>34152</th>\n      <td>Paraguay</td>\n      <td>1900</td>\n      <td>456307.0</td>\n      <td>25.000000</td>\n      <td>0.001202</td>\n      <td>NaN</td>\n      <td>0.55</td>\n      <td>0.000305</td>\n      <td>NaN</td>\n      <td>NaN</td>\n      <td>NaN</td>\n      <td>NaN</td>\n      <td>NaN</td>\n      <td>NaN</td>\n      <td>NaN</td>\n      <td>NaN</td>\n    </tr>\n    <tr>\n      <th>36158</th>\n      <td>Russia</td>\n      <td>1900</td>\n      <td>64946671.0</td>\n      <td>30.500000</td>\n      <td>0.171023</td>\n      <td>NaN</td>\n      <td>0.30</td>\n      <td>0.043421</td>\n      <td>NaN</td>\n      <td>NaN</td>\n      <td>NaN</td>\n      <td>NaN</td>\n      <td>NaN</td>\n      <td>NaN</td>\n      <td>NaN</td>\n      <td>NaN</td>\n    </tr>\n    <tr>\n      <th>41265</th>\n      <td>Spain</td>\n      <td>1900</td>\n      <td>18592431.0</td>\n      <td>34.799999</td>\n      <td>0.048959</td>\n      <td>NaN</td>\n      <td>3.07</td>\n      <td>0.012430</td>\n      <td>NaN</td>\n      <td>NaN</td>\n      <td>NaN</td>\n      <td>NaN</td>\n      <td>NaN</td>\n      <td>NaN</td>\n      <td>NaN</td>\n      <td>NaN</td>\n    </tr>\n    <tr>\n      <th>42410</th>\n      <td>Sweden</td>\n      <td>1900</td>\n      <td>5120942.0</td>\n      <td>52.209999</td>\n      <td>0.013485</td>\n      <td>NaN</td>\n      <td>4.21</td>\n      <td>0.003424</td>\n      <td>NaN</td>\n      <td>NaN</td>\n      <td>NaN</td>\n      <td>NaN</td>\n      <td>NaN</td>\n      <td>NaN</td>\n      <td>NaN</td>\n      <td>NaN</td>\n    </tr>\n    <tr>\n      <th>42632</th>\n      <td>Switzerland</td>\n      <td>1900</td>\n      <td>3284773.0</td>\n      <td>47.480000</td>\n      <td>0.008650</td>\n      <td>NaN</td>\n      <td>5.10</td>\n      <td>0.002196</td>\n      <td>NaN</td>\n      <td>NaN</td>\n      <td>NaN</td>\n      <td>NaN</td>\n      <td>NaN</td>\n      <td>NaN</td>\n      <td>NaN</td>\n      <td>NaN</td>\n    </tr>\n    <tr>\n      <th>46121</th>\n      <td>Ukraine</td>\n      <td>1900</td>\n      <td>23477813.0</td>\n      <td>36.599998</td>\n      <td>0.061824</td>\n      <td>NaN</td>\n      <td>NaN</td>\n      <td>NaN</td>\n      <td>NaN</td>\n      <td>NaN</td>\n      <td>NaN</td>\n      <td>NaN</td>\n      <td>NaN</td>\n      <td>NaN</td>\n      <td>NaN</td>\n      <td>NaN</td>\n    </tr>\n    <tr>\n      <th>46876</th>\n      <td>United Kingdom</td>\n      <td>1900</td>\n      <td>41433090.0</td>\n      <td>45.619999</td>\n      <td>0.109105</td>\n      <td>NaN</td>\n      <td>1.96</td>\n      <td>0.027701</td>\n      <td>NaN</td>\n      <td>NaN</td>\n      <td>NaN</td>\n      <td>NaN</td>\n      <td>NaN</td>\n      <td>NaN</td>\n      <td>NaN</td>\n      <td>NaN</td>\n    </tr>\n    <tr>\n      <th>47542</th>\n      <td>Uruguay</td>\n      <td>1900</td>\n      <td>921056.0</td>\n      <td>49.000000</td>\n      <td>0.002425</td>\n      <td>NaN</td>\n      <td>0.80</td>\n      <td>0.000616</td>\n      <td>NaN</td>\n      <td>NaN</td>\n      <td>NaN</td>\n      <td>NaN</td>\n      <td>NaN</td>\n      <td>NaN</td>\n      <td>NaN</td>\n      <td>NaN</td>\n    </tr>\n    <tr>\n      <th>48430</th>\n      <td>Venezuela</td>\n      <td>1900</td>\n      <td>2697074.0</td>\n      <td>28.000000</td>\n      <td>0.007102</td>\n      <td>NaN</td>\n      <td>0.32</td>\n      <td>0.001803</td>\n      <td>NaN</td>\n      <td>NaN</td>\n      <td>NaN</td>\n      <td>NaN</td>\n      <td>NaN</td>\n      <td>NaN</td>\n      <td>NaN</td>\n      <td>NaN</td>\n    </tr>\n  </tbody>\n</table>\n</div>"
     },
     "execution_count": 894,
     "metadata": {},
     "output_type": "execute_result"
    }
   ],
   "source": [
    "# take a look at dataframe\n",
    "factors.loc[(factors['Year'] == 1900) & (pd.notna(factors['Life expectancy']))]"
   ]
  },
  {
   "cell_type": "code",
   "execution_count": 895,
   "id": "6413cb02",
   "metadata": {},
   "outputs": [],
   "source": [
    "# go through dataframe\n",
    "# make each factors weighted by multiplying weight by original factors\n",
    "\n",
    "for year in range(1800, 2020):\n",
    "    factors['Weighted Life Expectancy'].loc[(factors['Year'] == year) & (pd.notna(factors['Life expectancy']))] = (\n",
    "        factors['Life expectancy'].loc[(factors['Year'] == year) & (pd.notna(factors['Life expectancy']))]\n",
    "        * factors['Life Expectancy Weight'].loc[(factors['Year'] == year) & (pd.notna(factors['Life expectancy']))])\n",
    "    \n",
    "    \n",
    "    factors['Weighted YOS'].loc[(factors['Year'] == year) & (pd.notna(factors['Average Total Years of Schooling for Adult Population (Lee-Lee (2016), Barro-Lee (2018) and UNDP (2018))']))] = (\n",
    "        factors['Average Total Years of Schooling for Adult Population (Lee-Lee (2016), Barro-Lee (2018) and UNDP (2018))'].loc[(factors['Year'] == year) & (pd.notna(factors['Average Total Years of Schooling for Adult Population (Lee-Lee (2016), Barro-Lee (2018) and UNDP (2018))']))] \n",
    "        * factors['YOS Weight'].loc[(factors['Year'] == year) & (pd.notna(factors['Average Total Years of Schooling for Adult Population (Lee-Lee (2016), Barro-Lee (2018) and UNDP (2018))']))])\n",
    "    \n",
    "    \n",
    "    factors['Weighted Expected YOS'].loc[(factors['Year'] == year) & (pd.notna(factors['Expected Years of Schooling (years)']))] = (\n",
    "        factors['Expected Years of Schooling (years)'].loc[(factors['Year'] == year) & (pd.notna(factors['Expected Years of Schooling (years)']))] \n",
    "        * factors['Expected YOS Weight'].loc[(factors['Year'] == year) & (pd.notna(factors['Expected Years of Schooling (years)']))])\n",
    "    \n",
    "    factors['Weighted GNI'].loc[(factors['Year'] == year) & (pd.notna(factors['GNI per capita, PPP (constant 2017 international $)']))] = (\n",
    "        factors['GNI per capita, PPP (constant 2017 international $)'].loc[(factors['Year'] == year) & (pd.notna(factors['GNI per capita, PPP (constant 2017 international $)']))] \n",
    "        * factors['GNI Weight'].loc[(factors['Year'] == year) & (pd.notna(factors['GNI per capita, PPP (constant 2017 international $)']))])"
   ]
  },
  {
   "cell_type": "code",
   "execution_count": 896,
   "id": "645bd095",
   "metadata": {},
   "outputs": [
    {
     "data": {
      "text/plain": "            Entity  Year  Population (historical estimates)  Life expectancy  \\\n70     Afghanistan  1870                          4142928.0              NaN   \n75     Afghanistan  1875                          4247357.0              NaN   \n80     Afghanistan  1880                          4354370.0              NaN   \n85     Afghanistan  1885                          4464010.0              NaN   \n90     Afghanistan  1890                          4576341.0              NaN   \n...            ...   ...                                ...              ...   \n49727     Zimbabwe  2015                         13814642.0           59.534   \n49728     Zimbabwe  2016                         14030338.0           60.294   \n49729     Zimbabwe  2017                         14236599.0           60.812   \n49730     Zimbabwe  2018                         14438812.0           61.195   \n49731     Zimbabwe  2019                         14645473.0           61.490   \n\n       Life Expectancy Weight  Weighted Life Expectancy  \\\n70                        NaN                       NaN   \n75                        NaN                       NaN   \n80                        NaN                       NaN   \n85                        NaN                       NaN   \n90                        NaN                       NaN   \n...                       ...                       ...   \n49727                0.001872                  0.111445   \n49728                0.001880                  0.113337   \n49729                0.001886                  0.114702   \n49730                0.001892                  0.115787   \n49731                0.001899                  0.116751   \n\n       Average Total Years of Schooling for Adult Population (Lee-Lee (2016), Barro-Lee (2018) and UNDP (2018))  \\\n70                                                  0.01                                                          \n75                                                  0.01                                                          \n80                                                  0.01                                                          \n85                                                  0.01                                                          \n90                                                  0.01                                                          \n...                                                  ...                                                          \n49727                                               8.20                                                          \n49728                                               8.20                                                          \n49729                                               8.20                                                          \n49730                                                NaN                                                          \n49731                                                NaN                                                          \n\n       YOS Weight  Weighted YOS  Expected Years of Schooling (years)  \\\n70       0.003395      0.000034                                  NaN   \n75       0.003391      0.000034                                  NaN   \n80       0.003374      0.000034                                  NaN   \n85       0.003333      0.000033                                  NaN   \n90       0.003286      0.000033                                  NaN   \n...           ...           ...                                  ...   \n49727    0.001890      0.015500                                 10.3   \n49728    0.001898      0.015563                                 10.3   \n49729    0.001904      0.015616                                 10.3   \n49730         NaN           NaN                                  NaN   \n49731         NaN           NaN                                  NaN   \n\n       Expected YOS Weight  Weighted Expected YOS  \\\n70                     NaN                    NaN   \n75                     NaN                    NaN   \n80                     NaN                    NaN   \n85                     NaN                    NaN   \n90                     NaN                    NaN   \n...                    ...                    ...   \n49727             0.001884               0.019403   \n49728             0.001892               0.019483   \n49729             0.001898               0.019549   \n49730                  NaN                    NaN   \n49731                  NaN                    NaN   \n\n       GNI per capita, PPP (constant 2017 international $)  GNI Weight  \\\n70                                                   NaN           NaN   \n75                                                   NaN           NaN   \n80                                                   NaN           NaN   \n85                                                   NaN           NaN   \n90                                                   NaN           NaN   \n...                                                  ...           ...   \n49727                                        2858.616749      0.001986   \n49728                                        2884.156050      0.001994   \n49729                                        3207.887558      0.001925   \n49730                                        3262.224759      0.002010   \n49731                                                NaN           NaN   \n\n       Weighted GNI  Actual Human Development Index (UNDP)  \n70              NaN                                    NaN  \n75              NaN                                    NaN  \n80              NaN                                    NaN  \n85              NaN                                    NaN  \n90              NaN                                    NaN  \n...             ...                                    ...  \n49727      5.677508                                  0.529  \n49728      5.751916                                  0.532  \n49729      6.176262                                  0.535  \n49730      6.557683                                    NaN  \n49731           NaN                                    NaN  \n\n[19737 rows x 16 columns]",
      "text/html": "<div>\n<style scoped>\n    .dataframe tbody tr th:only-of-type {\n        vertical-align: middle;\n    }\n\n    .dataframe tbody tr th {\n        vertical-align: top;\n    }\n\n    .dataframe thead th {\n        text-align: right;\n    }\n</style>\n<table border=\"1\" class=\"dataframe\">\n  <thead>\n    <tr style=\"text-align: right;\">\n      <th></th>\n      <th>Entity</th>\n      <th>Year</th>\n      <th>Population (historical estimates)</th>\n      <th>Life expectancy</th>\n      <th>Life Expectancy Weight</th>\n      <th>Weighted Life Expectancy</th>\n      <th>Average Total Years of Schooling for Adult Population (Lee-Lee (2016), Barro-Lee (2018) and UNDP (2018))</th>\n      <th>YOS Weight</th>\n      <th>Weighted YOS</th>\n      <th>Expected Years of Schooling (years)</th>\n      <th>Expected YOS Weight</th>\n      <th>Weighted Expected YOS</th>\n      <th>GNI per capita, PPP (constant 2017 international $)</th>\n      <th>GNI Weight</th>\n      <th>Weighted GNI</th>\n      <th>Actual Human Development Index (UNDP)</th>\n    </tr>\n  </thead>\n  <tbody>\n    <tr>\n      <th>70</th>\n      <td>Afghanistan</td>\n      <td>1870</td>\n      <td>4142928.0</td>\n      <td>NaN</td>\n      <td>NaN</td>\n      <td>NaN</td>\n      <td>0.01</td>\n      <td>0.003395</td>\n      <td>0.000034</td>\n      <td>NaN</td>\n      <td>NaN</td>\n      <td>NaN</td>\n      <td>NaN</td>\n      <td>NaN</td>\n      <td>NaN</td>\n      <td>NaN</td>\n    </tr>\n    <tr>\n      <th>75</th>\n      <td>Afghanistan</td>\n      <td>1875</td>\n      <td>4247357.0</td>\n      <td>NaN</td>\n      <td>NaN</td>\n      <td>NaN</td>\n      <td>0.01</td>\n      <td>0.003391</td>\n      <td>0.000034</td>\n      <td>NaN</td>\n      <td>NaN</td>\n      <td>NaN</td>\n      <td>NaN</td>\n      <td>NaN</td>\n      <td>NaN</td>\n      <td>NaN</td>\n    </tr>\n    <tr>\n      <th>80</th>\n      <td>Afghanistan</td>\n      <td>1880</td>\n      <td>4354370.0</td>\n      <td>NaN</td>\n      <td>NaN</td>\n      <td>NaN</td>\n      <td>0.01</td>\n      <td>0.003374</td>\n      <td>0.000034</td>\n      <td>NaN</td>\n      <td>NaN</td>\n      <td>NaN</td>\n      <td>NaN</td>\n      <td>NaN</td>\n      <td>NaN</td>\n      <td>NaN</td>\n    </tr>\n    <tr>\n      <th>85</th>\n      <td>Afghanistan</td>\n      <td>1885</td>\n      <td>4464010.0</td>\n      <td>NaN</td>\n      <td>NaN</td>\n      <td>NaN</td>\n      <td>0.01</td>\n      <td>0.003333</td>\n      <td>0.000033</td>\n      <td>NaN</td>\n      <td>NaN</td>\n      <td>NaN</td>\n      <td>NaN</td>\n      <td>NaN</td>\n      <td>NaN</td>\n      <td>NaN</td>\n    </tr>\n    <tr>\n      <th>90</th>\n      <td>Afghanistan</td>\n      <td>1890</td>\n      <td>4576341.0</td>\n      <td>NaN</td>\n      <td>NaN</td>\n      <td>NaN</td>\n      <td>0.01</td>\n      <td>0.003286</td>\n      <td>0.000033</td>\n      <td>NaN</td>\n      <td>NaN</td>\n      <td>NaN</td>\n      <td>NaN</td>\n      <td>NaN</td>\n      <td>NaN</td>\n      <td>NaN</td>\n    </tr>\n    <tr>\n      <th>...</th>\n      <td>...</td>\n      <td>...</td>\n      <td>...</td>\n      <td>...</td>\n      <td>...</td>\n      <td>...</td>\n      <td>...</td>\n      <td>...</td>\n      <td>...</td>\n      <td>...</td>\n      <td>...</td>\n      <td>...</td>\n      <td>...</td>\n      <td>...</td>\n      <td>...</td>\n      <td>...</td>\n    </tr>\n    <tr>\n      <th>49727</th>\n      <td>Zimbabwe</td>\n      <td>2015</td>\n      <td>13814642.0</td>\n      <td>59.534</td>\n      <td>0.001872</td>\n      <td>0.111445</td>\n      <td>8.20</td>\n      <td>0.001890</td>\n      <td>0.015500</td>\n      <td>10.3</td>\n      <td>0.001884</td>\n      <td>0.019403</td>\n      <td>2858.616749</td>\n      <td>0.001986</td>\n      <td>5.677508</td>\n      <td>0.529</td>\n    </tr>\n    <tr>\n      <th>49728</th>\n      <td>Zimbabwe</td>\n      <td>2016</td>\n      <td>14030338.0</td>\n      <td>60.294</td>\n      <td>0.001880</td>\n      <td>0.113337</td>\n      <td>8.20</td>\n      <td>0.001898</td>\n      <td>0.015563</td>\n      <td>10.3</td>\n      <td>0.001892</td>\n      <td>0.019483</td>\n      <td>2884.156050</td>\n      <td>0.001994</td>\n      <td>5.751916</td>\n      <td>0.532</td>\n    </tr>\n    <tr>\n      <th>49729</th>\n      <td>Zimbabwe</td>\n      <td>2017</td>\n      <td>14236599.0</td>\n      <td>60.812</td>\n      <td>0.001886</td>\n      <td>0.114702</td>\n      <td>8.20</td>\n      <td>0.001904</td>\n      <td>0.015616</td>\n      <td>10.3</td>\n      <td>0.001898</td>\n      <td>0.019549</td>\n      <td>3207.887558</td>\n      <td>0.001925</td>\n      <td>6.176262</td>\n      <td>0.535</td>\n    </tr>\n    <tr>\n      <th>49730</th>\n      <td>Zimbabwe</td>\n      <td>2018</td>\n      <td>14438812.0</td>\n      <td>61.195</td>\n      <td>0.001892</td>\n      <td>0.115787</td>\n      <td>NaN</td>\n      <td>NaN</td>\n      <td>NaN</td>\n      <td>NaN</td>\n      <td>NaN</td>\n      <td>NaN</td>\n      <td>3262.224759</td>\n      <td>0.002010</td>\n      <td>6.557683</td>\n      <td>NaN</td>\n    </tr>\n    <tr>\n      <th>49731</th>\n      <td>Zimbabwe</td>\n      <td>2019</td>\n      <td>14645473.0</td>\n      <td>61.490</td>\n      <td>0.001899</td>\n      <td>0.116751</td>\n      <td>NaN</td>\n      <td>NaN</td>\n      <td>NaN</td>\n      <td>NaN</td>\n      <td>NaN</td>\n      <td>NaN</td>\n      <td>NaN</td>\n      <td>NaN</td>\n      <td>NaN</td>\n      <td>NaN</td>\n    </tr>\n  </tbody>\n</table>\n<p>19737 rows × 16 columns</p>\n</div>"
     },
     "execution_count": 896,
     "metadata": {},
     "output_type": "execute_result"
    }
   ],
   "source": [
    "factors"
   ]
  },
  {
   "cell_type": "code",
   "execution_count": 897,
   "id": "f8ad4c2b",
   "metadata": {},
   "outputs": [],
   "source": [
    "# create new dataframe to contain world values\n",
    "# take mean of weighted averages for every country by year and store in dataset\n",
    "\n",
    "column_names = ['Year', 'Population', 'Life Expectancy', 'YOS', 'Expected YOS', 'GNI']\n",
    "world_values = pd.DataFrame(columns = column_names)\n",
    "\n",
    "for year in range(1800, 2020):\n",
    "    population = factors['Population (historical estimates)'].loc[factors['Year'] == year].sum()\n",
    "    life_expectancy = factors['Weighted Life Expectancy'].loc[factors['Year'] == year].sum()\n",
    "    yos = factors['Weighted YOS'].loc[factors['Year'] == year].sum()\n",
    "    expected_yos = factors['Weighted Expected YOS'].loc[factors['Year'] == year].sum()\n",
    "    gni = factors['Weighted GNI'].loc[factors['Year'] == year].sum()\n",
    "    # print( \"Year: \", year, \" Life exp: \", life_expectancy, \" YOS: \", yos, \" Expected YOS: \", expected_yos, \" Weighted GNI: \", weighted_GNI)\n",
    "    \n",
    "    world_values = world_values.append({'Year' : year, 'Population' : population, 'Life Expectancy' : life_expectancy, 'YOS': yos, \n",
    "                                       'Expected YOS' : expected_yos, 'GNI': gni}, \n",
    "                ignore_index = True)"
   ]
  },
  {
   "cell_type": "code",
   "execution_count": 898,
   "id": "a46db416",
   "metadata": {},
   "outputs": [
    {
     "data": {
      "text/plain": "       Year    Population Life Expectancy       YOS Expected YOS  GNI\n0    1870.0  1220133545.0       38.277174  0.412782          0.0  0.0\n1    1875.0  1252621350.0       38.706626  0.469862          0.0  0.0\n2    1880.0  1290397162.0       39.662144  0.534735          0.0  0.0\n3    1885.0  1339345388.0       41.088925  0.606446          0.0  0.0\n4    1890.0  1392518173.0       42.536045  0.711106          0.0  0.0\n..      ...           ...             ...       ...          ...  ...\n216  1810.0     2412437.0       31.940001       0.0          0.0  0.0\n217  1811.0     2418704.0       34.540001       0.0          0.0  0.0\n218  1812.0     2430522.0       35.049999       0.0          0.0  0.0\n219  1813.0    16711639.0       40.548365       0.0          0.0  0.0\n220  1814.0     2465415.0       38.549999       0.0          0.0  0.0\n\n[221 rows x 6 columns]",
      "text/html": "<div>\n<style scoped>\n    .dataframe tbody tr th:only-of-type {\n        vertical-align: middle;\n    }\n\n    .dataframe tbody tr th {\n        vertical-align: top;\n    }\n\n    .dataframe thead th {\n        text-align: right;\n    }\n</style>\n<table border=\"1\" class=\"dataframe\">\n  <thead>\n    <tr style=\"text-align: right;\">\n      <th></th>\n      <th>Year</th>\n      <th>Population</th>\n      <th>Life Expectancy</th>\n      <th>YOS</th>\n      <th>Expected YOS</th>\n      <th>GNI</th>\n    </tr>\n  </thead>\n  <tbody>\n    <tr>\n      <th>0</th>\n      <td>1870.0</td>\n      <td>1220133545.0</td>\n      <td>38.277174</td>\n      <td>0.412782</td>\n      <td>0.0</td>\n      <td>0.0</td>\n    </tr>\n    <tr>\n      <th>1</th>\n      <td>1875.0</td>\n      <td>1252621350.0</td>\n      <td>38.706626</td>\n      <td>0.469862</td>\n      <td>0.0</td>\n      <td>0.0</td>\n    </tr>\n    <tr>\n      <th>2</th>\n      <td>1880.0</td>\n      <td>1290397162.0</td>\n      <td>39.662144</td>\n      <td>0.534735</td>\n      <td>0.0</td>\n      <td>0.0</td>\n    </tr>\n    <tr>\n      <th>3</th>\n      <td>1885.0</td>\n      <td>1339345388.0</td>\n      <td>41.088925</td>\n      <td>0.606446</td>\n      <td>0.0</td>\n      <td>0.0</td>\n    </tr>\n    <tr>\n      <th>4</th>\n      <td>1890.0</td>\n      <td>1392518173.0</td>\n      <td>42.536045</td>\n      <td>0.711106</td>\n      <td>0.0</td>\n      <td>0.0</td>\n    </tr>\n    <tr>\n      <th>...</th>\n      <td>...</td>\n      <td>...</td>\n      <td>...</td>\n      <td>...</td>\n      <td>...</td>\n      <td>...</td>\n    </tr>\n    <tr>\n      <th>216</th>\n      <td>1810.0</td>\n      <td>2412437.0</td>\n      <td>31.940001</td>\n      <td>0.0</td>\n      <td>0.0</td>\n      <td>0.0</td>\n    </tr>\n    <tr>\n      <th>217</th>\n      <td>1811.0</td>\n      <td>2418704.0</td>\n      <td>34.540001</td>\n      <td>0.0</td>\n      <td>0.0</td>\n      <td>0.0</td>\n    </tr>\n    <tr>\n      <th>218</th>\n      <td>1812.0</td>\n      <td>2430522.0</td>\n      <td>35.049999</td>\n      <td>0.0</td>\n      <td>0.0</td>\n      <td>0.0</td>\n    </tr>\n    <tr>\n      <th>219</th>\n      <td>1813.0</td>\n      <td>16711639.0</td>\n      <td>40.548365</td>\n      <td>0.0</td>\n      <td>0.0</td>\n      <td>0.0</td>\n    </tr>\n    <tr>\n      <th>220</th>\n      <td>1814.0</td>\n      <td>2465415.0</td>\n      <td>38.549999</td>\n      <td>0.0</td>\n      <td>0.0</td>\n      <td>0.0</td>\n    </tr>\n  </tbody>\n</table>\n<p>221 rows × 6 columns</p>\n</div>"
     },
     "execution_count": 898,
     "metadata": {},
     "output_type": "execute_result"
    }
   ],
   "source": [
    "world_values"
   ]
  },
  {
   "cell_type": "code",
   "execution_count": 899,
   "id": "e6b2c2ca",
   "metadata": {},
   "outputs": [],
   "source": [
    "# make year column integers\n",
    "\n",
    "world_values['Year'] = world_values['Year'].astype(int)\n",
    "world_values.replace(0.000000, np.nan, inplace = True)"
   ]
  },
  {
   "cell_type": "code",
   "execution_count": 900,
   "id": "eec20fae",
   "metadata": {},
   "outputs": [
    {
     "data": {
      "text/plain": "     Year    Population  Life Expectancy       YOS  Expected YOS           GNI\n207  1800  2.500000e+06        32.130001       NaN           NaN           NaN\n208  1801  2.489400e+06        36.849998       NaN           NaN           NaN\n209  1802  2.478845e+06        40.130001       NaN           NaN           NaN\n210  1803  1.357067e+07        40.050921       NaN           NaN           NaN\n211  1804  2.457869e+06        39.650002       NaN           NaN           NaN\n..    ...           ...              ...       ...           ...           ...\n82   2016  7.464012e+09        72.223146  7.982917     13.188746  15780.970942\n83   2017  7.547849e+09        72.426848  7.998527     13.193718  16215.177712\n84   2018  7.631081e+09        72.612756       NaN           NaN  16586.907293\n85   2019  7.713458e+09        72.783500       NaN           NaN  16421.030285\n89   2020  4.637912e+09              NaN       NaN           NaN           NaN\n\n[221 rows x 6 columns]",
      "text/html": "<div>\n<style scoped>\n    .dataframe tbody tr th:only-of-type {\n        vertical-align: middle;\n    }\n\n    .dataframe tbody tr th {\n        vertical-align: top;\n    }\n\n    .dataframe thead th {\n        text-align: right;\n    }\n</style>\n<table border=\"1\" class=\"dataframe\">\n  <thead>\n    <tr style=\"text-align: right;\">\n      <th></th>\n      <th>Year</th>\n      <th>Population</th>\n      <th>Life Expectancy</th>\n      <th>YOS</th>\n      <th>Expected YOS</th>\n      <th>GNI</th>\n    </tr>\n  </thead>\n  <tbody>\n    <tr>\n      <th>207</th>\n      <td>1800</td>\n      <td>2.500000e+06</td>\n      <td>32.130001</td>\n      <td>NaN</td>\n      <td>NaN</td>\n      <td>NaN</td>\n    </tr>\n    <tr>\n      <th>208</th>\n      <td>1801</td>\n      <td>2.489400e+06</td>\n      <td>36.849998</td>\n      <td>NaN</td>\n      <td>NaN</td>\n      <td>NaN</td>\n    </tr>\n    <tr>\n      <th>209</th>\n      <td>1802</td>\n      <td>2.478845e+06</td>\n      <td>40.130001</td>\n      <td>NaN</td>\n      <td>NaN</td>\n      <td>NaN</td>\n    </tr>\n    <tr>\n      <th>210</th>\n      <td>1803</td>\n      <td>1.357067e+07</td>\n      <td>40.050921</td>\n      <td>NaN</td>\n      <td>NaN</td>\n      <td>NaN</td>\n    </tr>\n    <tr>\n      <th>211</th>\n      <td>1804</td>\n      <td>2.457869e+06</td>\n      <td>39.650002</td>\n      <td>NaN</td>\n      <td>NaN</td>\n      <td>NaN</td>\n    </tr>\n    <tr>\n      <th>...</th>\n      <td>...</td>\n      <td>...</td>\n      <td>...</td>\n      <td>...</td>\n      <td>...</td>\n      <td>...</td>\n    </tr>\n    <tr>\n      <th>82</th>\n      <td>2016</td>\n      <td>7.464012e+09</td>\n      <td>72.223146</td>\n      <td>7.982917</td>\n      <td>13.188746</td>\n      <td>15780.970942</td>\n    </tr>\n    <tr>\n      <th>83</th>\n      <td>2017</td>\n      <td>7.547849e+09</td>\n      <td>72.426848</td>\n      <td>7.998527</td>\n      <td>13.193718</td>\n      <td>16215.177712</td>\n    </tr>\n    <tr>\n      <th>84</th>\n      <td>2018</td>\n      <td>7.631081e+09</td>\n      <td>72.612756</td>\n      <td>NaN</td>\n      <td>NaN</td>\n      <td>16586.907293</td>\n    </tr>\n    <tr>\n      <th>85</th>\n      <td>2019</td>\n      <td>7.713458e+09</td>\n      <td>72.783500</td>\n      <td>NaN</td>\n      <td>NaN</td>\n      <td>16421.030285</td>\n    </tr>\n    <tr>\n      <th>89</th>\n      <td>2020</td>\n      <td>4.637912e+09</td>\n      <td>NaN</td>\n      <td>NaN</td>\n      <td>NaN</td>\n      <td>NaN</td>\n    </tr>\n  </tbody>\n</table>\n<p>221 rows × 6 columns</p>\n</div>"
     },
     "execution_count": 900,
     "metadata": {},
     "output_type": "execute_result"
    }
   ],
   "source": [
    "world_values"
   ]
  },
  {
   "cell_type": "code",
   "execution_count": 901,
   "id": "577f1f01",
   "metadata": {},
   "outputs": [],
   "source": [
    "world_values = world_values.dropna()"
   ]
  },
  {
   "cell_type": "code",
   "execution_count": 902,
   "id": "f5f4875a",
   "metadata": {},
   "outputs": [
    {
     "data": {
      "text/plain": "     Year  Life Expectancy        YOS  Expected YOS           GNI\n207  1800        32.130001        NaN           NaN           NaN\n208  1801        36.849998        NaN           NaN           NaN\n209  1802        40.130001        NaN           NaN           NaN\n210  1803        40.050921        NaN           NaN           NaN\n211  1804        39.650002        NaN           NaN           NaN\n..    ...              ...        ...           ...           ...\n98   2118        98.279478  12.680817     13.358579  43980.596710\n99   2119        98.543966  12.681291     13.359053  44256.777233\n100  2120        98.808454  12.681765     13.359526  44532.957755\n101  2121        99.072942  12.682238     13.360000  44809.138277\n102  2122        99.337430  12.682711     13.360473  45085.318799\n\n[323 rows x 5 columns]",
      "text/html": "<div>\n<style scoped>\n    .dataframe tbody tr th:only-of-type {\n        vertical-align: middle;\n    }\n\n    .dataframe tbody tr th {\n        vertical-align: top;\n    }\n\n    .dataframe thead th {\n        text-align: right;\n    }\n</style>\n<table border=\"1\" class=\"dataframe\">\n  <thead>\n    <tr style=\"text-align: right;\">\n      <th></th>\n      <th>Year</th>\n      <th>Life Expectancy</th>\n      <th>YOS</th>\n      <th>Expected YOS</th>\n      <th>GNI</th>\n    </tr>\n  </thead>\n  <tbody>\n    <tr>\n      <th>207</th>\n      <td>1800</td>\n      <td>32.130001</td>\n      <td>NaN</td>\n      <td>NaN</td>\n      <td>NaN</td>\n    </tr>\n    <tr>\n      <th>208</th>\n      <td>1801</td>\n      <td>36.849998</td>\n      <td>NaN</td>\n      <td>NaN</td>\n      <td>NaN</td>\n    </tr>\n    <tr>\n      <th>209</th>\n      <td>1802</td>\n      <td>40.130001</td>\n      <td>NaN</td>\n      <td>NaN</td>\n      <td>NaN</td>\n    </tr>\n    <tr>\n      <th>210</th>\n      <td>1803</td>\n      <td>40.050921</td>\n      <td>NaN</td>\n      <td>NaN</td>\n      <td>NaN</td>\n    </tr>\n    <tr>\n      <th>211</th>\n      <td>1804</td>\n      <td>39.650002</td>\n      <td>NaN</td>\n      <td>NaN</td>\n      <td>NaN</td>\n    </tr>\n    <tr>\n      <th>...</th>\n      <td>...</td>\n      <td>...</td>\n      <td>...</td>\n      <td>...</td>\n      <td>...</td>\n    </tr>\n    <tr>\n      <th>98</th>\n      <td>2118</td>\n      <td>98.279478</td>\n      <td>12.680817</td>\n      <td>13.358579</td>\n      <td>43980.596710</td>\n    </tr>\n    <tr>\n      <th>99</th>\n      <td>2119</td>\n      <td>98.543966</td>\n      <td>12.681291</td>\n      <td>13.359053</td>\n      <td>44256.777233</td>\n    </tr>\n    <tr>\n      <th>100</th>\n      <td>2120</td>\n      <td>98.808454</td>\n      <td>12.681765</td>\n      <td>13.359526</td>\n      <td>44532.957755</td>\n    </tr>\n    <tr>\n      <th>101</th>\n      <td>2121</td>\n      <td>99.072942</td>\n      <td>12.682238</td>\n      <td>13.360000</td>\n      <td>44809.138277</td>\n    </tr>\n    <tr>\n      <th>102</th>\n      <td>2122</td>\n      <td>99.337430</td>\n      <td>12.682711</td>\n      <td>13.360473</td>\n      <td>45085.318799</td>\n    </tr>\n  </tbody>\n</table>\n<p>323 rows × 5 columns</p>\n</div>"
     },
     "execution_count": 902,
     "metadata": {},
     "output_type": "execute_result"
    }
   ],
   "source": [
    "world_values"
   ]
  },
  {
   "cell_type": "code",
   "execution_count": 903,
   "id": "bf633198",
   "metadata": {},
   "outputs": [],
   "source": [
    "# create HDI dataframe to contain all calculated indexes and HDI for each year\n",
    "\n",
    "# need to reevalute how math is done in collecting factors to get indexes\n",
    "\n",
    "HDI = column_names = ['Year', 'Population', 'Life Expectancy Index', 'Education Expectancy Index', 'Income Expectancy Index', 'HDI']\n",
    "HDI = pd.DataFrame(columns = column_names)\n",
    "\n",
    "for item, rows in world_values.iterrows():\n",
    "    lei = (world_values['Life Expectancy'].loc[item] - 20)/(85 - 20)\n",
    "    eei = ((world_values['YOS'].loc[item] / 15) + (world_values['Expected YOS'].loc[item] /18 )) / 2\n",
    "    iei = (math.log(world_values['GNI'].loc[item]) - math.log(100))/(math.log(75000) - math.log(100))\n",
    "    hdi = (lei * eei * iei) ** (1/3)\n",
    "    \n",
    "    # print( \"Year: \", year, \" Life exp: \", life_expectancy, \" YOS: \", yos, \" Expected YOS: \", expected_yos, \" Weighted GNI: \", weighted_GNI)\n",
    "    \n",
    "    HDI = HDI.append({'Year' : rows['Year'],\n",
    "                      'Population' : rows['Population'],\n",
    "                      'Life Expectancy Index' : lei, \n",
    "                      'Education Expectancy Index' : eei,\n",
    "                      'Income Expectancy Index': iei,\n",
    "                      'HDI' : hdi},\n",
    "                     ignore_index = True)"
   ]
  },
  {
   "cell_type": "code",
   "execution_count": 914,
   "id": "d8f268fc",
   "metadata": {},
   "outputs": [
    {
     "name": "stdout",
     "output_type": "stream",
     "text": [
      "Life Expectancy Range: 47.0 to 112.0\n",
      "Mean Years of Schooling Range: 5.0 to 20.0\n",
      "Expected Years of Schooling Range: 0.0 to 18.0\n",
      "GNI per Capita Range: 9000.0 to 103664.0\n"
     ]
    }
   ],
   "source": [
    "HDI"
   ]
  },
  {
   "cell_type": "code",
   "execution_count": 905,
   "id": "d1303827",
   "metadata": {},
   "outputs": [],
   "source": [
    "# make years integers\n",
    "\n",
    "HDI['Year'] = HDI['Year'].astype(int)"
   ]
  },
  {
   "cell_type": "code",
   "execution_count": 906,
   "id": "02132376",
   "metadata": {},
   "outputs": [
    {
     "data": {
      "text/plain": "     Year  Life Expectancy        YOS  Expected YOS           GNI  \\\n207  1800        32.130001        NaN           NaN           NaN   \n208  1801        36.849998        NaN           NaN           NaN   \n209  1802        40.130001        NaN           NaN           NaN   \n210  1803        40.050921        NaN           NaN           NaN   \n211  1804        39.650002        NaN           NaN           NaN   \n..    ...              ...        ...           ...           ...   \n98   2118        98.279478  12.680817     13.358579  43980.596710   \n99   2119        98.543966  12.681291     13.359053  44256.777233   \n100  2120        98.808454  12.681765     13.359526  44532.957755   \n101  2121        99.072942  12.682238     13.360000  44809.138277   \n102  2122        99.337430  12.682711     13.360473  45085.318799   \n\n     Theoretical Adjusted HDI  \n207                       NaN  \n208                       NaN  \n209                       NaN  \n210                       NaN  \n211                       NaN  \n..                        ...  \n98                   0.684817  \n99                   0.686904  \n100                  0.688982  \n101                  0.691052  \n102                  0.693113  \n\n[323 rows x 6 columns]",
      "text/html": "<div>\n<style scoped>\n    .dataframe tbody tr th:only-of-type {\n        vertical-align: middle;\n    }\n\n    .dataframe tbody tr th {\n        vertical-align: top;\n    }\n\n    .dataframe thead th {\n        text-align: right;\n    }\n</style>\n<table border=\"1\" class=\"dataframe\">\n  <thead>\n    <tr style=\"text-align: right;\">\n      <th></th>\n      <th>Year</th>\n      <th>Life Expectancy</th>\n      <th>YOS</th>\n      <th>Expected YOS</th>\n      <th>GNI</th>\n      <th>Theoretical Adjusted HDI</th>\n    </tr>\n  </thead>\n  <tbody>\n    <tr>\n      <th>207</th>\n      <td>1800</td>\n      <td>32.130001</td>\n      <td>NaN</td>\n      <td>NaN</td>\n      <td>NaN</td>\n      <td>NaN</td>\n    </tr>\n    <tr>\n      <th>208</th>\n      <td>1801</td>\n      <td>36.849998</td>\n      <td>NaN</td>\n      <td>NaN</td>\n      <td>NaN</td>\n      <td>NaN</td>\n    </tr>\n    <tr>\n      <th>209</th>\n      <td>1802</td>\n      <td>40.130001</td>\n      <td>NaN</td>\n      <td>NaN</td>\n      <td>NaN</td>\n      <td>NaN</td>\n    </tr>\n    <tr>\n      <th>210</th>\n      <td>1803</td>\n      <td>40.050921</td>\n      <td>NaN</td>\n      <td>NaN</td>\n      <td>NaN</td>\n      <td>NaN</td>\n    </tr>\n    <tr>\n      <th>211</th>\n      <td>1804</td>\n      <td>39.650002</td>\n      <td>NaN</td>\n      <td>NaN</td>\n      <td>NaN</td>\n      <td>NaN</td>\n    </tr>\n    <tr>\n      <th>...</th>\n      <td>...</td>\n      <td>...</td>\n      <td>...</td>\n      <td>...</td>\n      <td>...</td>\n      <td>...</td>\n    </tr>\n    <tr>\n      <th>98</th>\n      <td>2118</td>\n      <td>98.279478</td>\n      <td>12.680817</td>\n      <td>13.358579</td>\n      <td>43980.596710</td>\n      <td>0.684817</td>\n    </tr>\n    <tr>\n      <th>99</th>\n      <td>2119</td>\n      <td>98.543966</td>\n      <td>12.681291</td>\n      <td>13.359053</td>\n      <td>44256.777233</td>\n      <td>0.686904</td>\n    </tr>\n    <tr>\n      <th>100</th>\n      <td>2120</td>\n      <td>98.808454</td>\n      <td>12.681765</td>\n      <td>13.359526</td>\n      <td>44532.957755</td>\n      <td>0.688982</td>\n    </tr>\n    <tr>\n      <th>101</th>\n      <td>2121</td>\n      <td>99.072942</td>\n      <td>12.682238</td>\n      <td>13.360000</td>\n      <td>44809.138277</td>\n      <td>0.691052</td>\n    </tr>\n    <tr>\n      <th>102</th>\n      <td>2122</td>\n      <td>99.337430</td>\n      <td>12.682711</td>\n      <td>13.360473</td>\n      <td>45085.318799</td>\n      <td>0.693113</td>\n    </tr>\n  </tbody>\n</table>\n<p>323 rows × 6 columns</p>\n</div>"
     },
     "execution_count": 906,
     "metadata": {},
     "output_type": "execute_result"
    }
   ],
   "source": [
    "HDI"
   ]
  },
  {
   "cell_type": "markdown",
   "id": "5c6d6058",
   "metadata": {},
   "source": [
    "## Data Analysis and Modeling"
   ]
  },
  {
   "cell_type": "code",
   "execution_count": 907,
   "id": "0946628b",
   "metadata": {},
   "outputs": [],
   "source": [
    "# plot HDI against years\n",
    "\n",
    "a,b = np.polyfit(HDI['Year'], HDI['HDI'], 1)\n",
    "\n",
    "plt.scatter(HDI['Year'], HDI['HDI'])\n",
    "plt.plot(HDI['Year'], a* HDI['Year'] + b, \"r\")\n",
    "plt.title('Year vs Global HDI')\n",
    "plt.xlabel('Year')\n",
    "plt.ylabel('HDI')\n",
    "plt.show()"
   ]
  },
  {
   "cell_type": "code",
   "execution_count": 908,
   "id": "3f85d06c",
   "metadata": {},
   "outputs": [
    {
     "data": {
      "text/plain": "       Year    Population Life Expectancy Index Education Expectancy Index  \\\n0    1870.0  1220133545.0              0.281187                        NaN   \n1    1875.0  1252621350.0              0.287794                        NaN   \n2    1880.0  1290397162.0              0.302495                        NaN   \n3    1885.0  1339345388.0              0.324445                        NaN   \n4    1890.0  1392518173.0              0.346708                        NaN   \n..      ...           ...                   ...                        ...   \n216  1810.0     2412437.0              0.183692                        NaN   \n217  1811.0     2418704.0              0.223692                        NaN   \n218  1812.0     2430522.0              0.231538                        NaN   \n219  1813.0    16711639.0              0.316129                        NaN   \n220  1814.0     2465415.0              0.285385                        NaN   \n\n    Income Expectancy Index  HDI  \n0                       NaN  NaN  \n1                       NaN  NaN  \n2                       NaN  NaN  \n3                       NaN  NaN  \n4                       NaN  NaN  \n..                      ...  ...  \n216                     NaN  NaN  \n217                     NaN  NaN  \n218                     NaN  NaN  \n219                     NaN  NaN  \n220                     NaN  NaN  \n\n[221 rows x 6 columns]",
      "text/html": "<div>\n<style scoped>\n    .dataframe tbody tr th:only-of-type {\n        vertical-align: middle;\n    }\n\n    .dataframe tbody tr th {\n        vertical-align: top;\n    }\n\n    .dataframe thead th {\n        text-align: right;\n    }\n</style>\n<table border=\"1\" class=\"dataframe\">\n  <thead>\n    <tr style=\"text-align: right;\">\n      <th></th>\n      <th>Year</th>\n      <th>Population</th>\n      <th>Life Expectancy Index</th>\n      <th>Education Expectancy Index</th>\n      <th>Income Expectancy Index</th>\n      <th>HDI</th>\n    </tr>\n  </thead>\n  <tbody>\n    <tr>\n      <th>0</th>\n      <td>1870.0</td>\n      <td>1220133545.0</td>\n      <td>0.281187</td>\n      <td>NaN</td>\n      <td>NaN</td>\n      <td>NaN</td>\n    </tr>\n    <tr>\n      <th>1</th>\n      <td>1875.0</td>\n      <td>1252621350.0</td>\n      <td>0.287794</td>\n      <td>NaN</td>\n      <td>NaN</td>\n      <td>NaN</td>\n    </tr>\n    <tr>\n      <th>2</th>\n      <td>1880.0</td>\n      <td>1290397162.0</td>\n      <td>0.302495</td>\n      <td>NaN</td>\n      <td>NaN</td>\n      <td>NaN</td>\n    </tr>\n    <tr>\n      <th>3</th>\n      <td>1885.0</td>\n      <td>1339345388.0</td>\n      <td>0.324445</td>\n      <td>NaN</td>\n      <td>NaN</td>\n      <td>NaN</td>\n    </tr>\n    <tr>\n      <th>4</th>\n      <td>1890.0</td>\n      <td>1392518173.0</td>\n      <td>0.346708</td>\n      <td>NaN</td>\n      <td>NaN</td>\n      <td>NaN</td>\n    </tr>\n    <tr>\n      <th>...</th>\n      <td>...</td>\n      <td>...</td>\n      <td>...</td>\n      <td>...</td>\n      <td>...</td>\n      <td>...</td>\n    </tr>\n    <tr>\n      <th>216</th>\n      <td>1810.0</td>\n      <td>2412437.0</td>\n      <td>0.183692</td>\n      <td>NaN</td>\n      <td>NaN</td>\n      <td>NaN</td>\n    </tr>\n    <tr>\n      <th>217</th>\n      <td>1811.0</td>\n      <td>2418704.0</td>\n      <td>0.223692</td>\n      <td>NaN</td>\n      <td>NaN</td>\n      <td>NaN</td>\n    </tr>\n    <tr>\n      <th>218</th>\n      <td>1812.0</td>\n      <td>2430522.0</td>\n      <td>0.231538</td>\n      <td>NaN</td>\n      <td>NaN</td>\n      <td>NaN</td>\n    </tr>\n    <tr>\n      <th>219</th>\n      <td>1813.0</td>\n      <td>16711639.0</td>\n      <td>0.316129</td>\n      <td>NaN</td>\n      <td>NaN</td>\n      <td>NaN</td>\n    </tr>\n    <tr>\n      <th>220</th>\n      <td>1814.0</td>\n      <td>2465415.0</td>\n      <td>0.285385</td>\n      <td>NaN</td>\n      <td>NaN</td>\n      <td>NaN</td>\n    </tr>\n  </tbody>\n</table>\n<p>221 rows × 6 columns</p>\n</div>"
     },
     "execution_count": 908,
     "metadata": {},
     "output_type": "execute_result"
    }
   ],
   "source": [
    "# plot population against years\n",
    "\n",
    "c,d = np.polyfit(HDI['Year'], HDI['Population'], 1)\n",
    "\n",
    "plt.scatter(HDI['Year'], HDI['Population'])\n",
    "plt.plot(HDI['Year'], c * HDI['Year'] + d, \"r\")\n",
    "plt.title('Year vs Population')\n",
    "plt.xlabel('Year')\n",
    "plt.ylabel('Population')\n",
    "plt.show()"
   ]
  },
  {
   "cell_type": "code",
   "execution_count": 909,
   "id": "80e12cd4",
   "metadata": {},
   "outputs": [],
   "source": [
    "# line of best fit to confirm 2017\n",
    "hdi_2017 = a * 2017 + b\n",
    "print(\"hdi_from_best_fit_2017 vs hdi_from_calculations_2017\")\n",
    "print(hdi_2017, \"      \", HDI['HDI'].loc[27])\n",
    "\n",
    "# use line of best fit to project hdi of 2122\n",
    "hdi_2122 = a * 2122 + b\n",
    "print(\"\\nhdi_2122: \", hdi_2122)\n",
    "\n",
    "# line of best fit to confirm population of 2017\n",
    "population_2017 = c * 2017 + d\n",
    "print(\"\\npopulation_from_best_fit_2017 vs population_from_calculations_2017\")\n",
    "print(population_2017, \"             \", HDI['Population'].loc[27])\n",
    "\n",
    "#use line of best fit to project population of 2122\n",
    "population_2122 = c * 2122 + d\n",
    "print(\"\\npopulation_2122: \", population_2122)"
   ]
  },
  {
   "cell_type": "code",
   "execution_count": 910,
   "id": "c3deea5f",
   "metadata": {},
   "outputs": [
    {
     "data": {
      "text/plain": "     Year    Population Life Expectancy Index Education Expectancy Index  \\\n0    1870  1220133545.0              0.281187                        NaN   \n1    1875  1252621350.0              0.287794                        NaN   \n2    1880  1290397162.0              0.302495                        NaN   \n3    1885  1339345388.0              0.324445                        NaN   \n4    1890  1392518173.0              0.346708                        NaN   \n..    ...           ...                   ...                        ...   \n216  1810     2412437.0              0.183692                        NaN   \n217  1811     2418704.0              0.223692                        NaN   \n218  1812     2430522.0              0.231538                        NaN   \n219  1813    16711639.0              0.316129                        NaN   \n220  1814     2465415.0              0.285385                        NaN   \n\n    Income Expectancy Index  HDI  \n0                       NaN  NaN  \n1                       NaN  NaN  \n2                       NaN  NaN  \n3                       NaN  NaN  \n4                       NaN  NaN  \n..                      ...  ...  \n216                     NaN  NaN  \n217                     NaN  NaN  \n218                     NaN  NaN  \n219                     NaN  NaN  \n220                     NaN  NaN  \n\n[221 rows x 6 columns]",
      "text/html": "<div>\n<style scoped>\n    .dataframe tbody tr th:only-of-type {\n        vertical-align: middle;\n    }\n\n    .dataframe tbody tr th {\n        vertical-align: top;\n    }\n\n    .dataframe thead th {\n        text-align: right;\n    }\n</style>\n<table border=\"1\" class=\"dataframe\">\n  <thead>\n    <tr style=\"text-align: right;\">\n      <th></th>\n      <th>Year</th>\n      <th>Population</th>\n      <th>Life Expectancy Index</th>\n      <th>Education Expectancy Index</th>\n      <th>Income Expectancy Index</th>\n      <th>HDI</th>\n    </tr>\n  </thead>\n  <tbody>\n    <tr>\n      <th>0</th>\n      <td>1870</td>\n      <td>1220133545.0</td>\n      <td>0.281187</td>\n      <td>NaN</td>\n      <td>NaN</td>\n      <td>NaN</td>\n    </tr>\n    <tr>\n      <th>1</th>\n      <td>1875</td>\n      <td>1252621350.0</td>\n      <td>0.287794</td>\n      <td>NaN</td>\n      <td>NaN</td>\n      <td>NaN</td>\n    </tr>\n    <tr>\n      <th>2</th>\n      <td>1880</td>\n      <td>1290397162.0</td>\n      <td>0.302495</td>\n      <td>NaN</td>\n      <td>NaN</td>\n      <td>NaN</td>\n    </tr>\n    <tr>\n      <th>3</th>\n      <td>1885</td>\n      <td>1339345388.0</td>\n      <td>0.324445</td>\n      <td>NaN</td>\n      <td>NaN</td>\n      <td>NaN</td>\n    </tr>\n    <tr>\n      <th>4</th>\n      <td>1890</td>\n      <td>1392518173.0</td>\n      <td>0.346708</td>\n      <td>NaN</td>\n      <td>NaN</td>\n      <td>NaN</td>\n    </tr>\n    <tr>\n      <th>...</th>\n      <td>...</td>\n      <td>...</td>\n      <td>...</td>\n      <td>...</td>\n      <td>...</td>\n      <td>...</td>\n    </tr>\n    <tr>\n      <th>216</th>\n      <td>1810</td>\n      <td>2412437.0</td>\n      <td>0.183692</td>\n      <td>NaN</td>\n      <td>NaN</td>\n      <td>NaN</td>\n    </tr>\n    <tr>\n      <th>217</th>\n      <td>1811</td>\n      <td>2418704.0</td>\n      <td>0.223692</td>\n      <td>NaN</td>\n      <td>NaN</td>\n      <td>NaN</td>\n    </tr>\n    <tr>\n      <th>218</th>\n      <td>1812</td>\n      <td>2430522.0</td>\n      <td>0.231538</td>\n      <td>NaN</td>\n      <td>NaN</td>\n      <td>NaN</td>\n    </tr>\n    <tr>\n      <th>219</th>\n      <td>1813</td>\n      <td>16711639.0</td>\n      <td>0.316129</td>\n      <td>NaN</td>\n      <td>NaN</td>\n      <td>NaN</td>\n    </tr>\n    <tr>\n      <th>220</th>\n      <td>1814</td>\n      <td>2465415.0</td>\n      <td>0.285385</td>\n      <td>NaN</td>\n      <td>NaN</td>\n      <td>NaN</td>\n    </tr>\n  </tbody>\n</table>\n<p>221 rows × 6 columns</p>\n</div>"
     },
     "execution_count": 910,
     "metadata": {},
     "output_type": "execute_result"
    }
   ],
   "source": [
    "#create dataframe to compare index calculated values to values calculated by best fit\n",
    "compare = column_names = ['Year', 'Population', 'Best Fit Calculated Population', 'Index Calculated HDI', 'Best Fit Calculated HDI']\n",
    "compare = pd.DataFrame(columns = column_names)\n",
    "\n",
    "for item, rows in HDI.iterrows():\n",
    "    calc_pop = c * rows['Year'] + d\n",
    "    calc_HDI = a * rows['Year'] + b\n",
    "    \n",
    "    compare = compare.append({'Year' : rows['Year'],\n",
    "                      'Population' : rows['Population'],\n",
    "                      'Best Fit Calculated Population' : calc_pop, \n",
    "                      'Index Calculated HDI' : rows['HDI'],\n",
    "                      'Best Fit Calculated HDI': calc_HDI},\n",
    "                     ignore_index = True)"
   ]
  },
  {
   "cell_type": "code",
   "execution_count": 911,
   "id": "ce023e68",
   "metadata": {},
   "outputs": [],
   "source": [
    "compare"
   ]
  },
  {
   "cell_type": "code",
   "execution_count": 912,
   "id": "96113b43",
   "metadata": {},
   "outputs": [
    {
     "ename": "UFuncTypeError",
     "evalue": "Cannot cast ufunc 'lstsq_n' input 1 from dtype('O') to dtype('float64') with casting rule 'same_kind'",
     "output_type": "error",
     "traceback": [
      "\u001B[0;31m---------------------------------------------------------------------------\u001B[0m",
      "\u001B[0;31mUFuncTypeError\u001B[0m                            Traceback (most recent call last)",
      "Input \u001B[0;32mIn [912]\u001B[0m, in \u001B[0;36m<module>\u001B[0;34m\u001B[0m\n\u001B[1;32m      1\u001B[0m \u001B[38;5;66;03m# plot HDI against years\u001B[39;00m\n\u001B[0;32m----> 3\u001B[0m a,b \u001B[38;5;241m=\u001B[39m \u001B[43mnp\u001B[49m\u001B[38;5;241;43m.\u001B[39;49m\u001B[43mpolyfit\u001B[49m\u001B[43m(\u001B[49m\u001B[43mHDI\u001B[49m\u001B[43m[\u001B[49m\u001B[38;5;124;43m'\u001B[39;49m\u001B[38;5;124;43mYear\u001B[39;49m\u001B[38;5;124;43m'\u001B[39;49m\u001B[43m]\u001B[49m\u001B[43m,\u001B[49m\u001B[43m \u001B[49m\u001B[43mHDI\u001B[49m\u001B[43m[\u001B[49m\u001B[38;5;124;43m'\u001B[39;49m\u001B[38;5;124;43mHDI\u001B[39;49m\u001B[38;5;124;43m'\u001B[39;49m\u001B[43m]\u001B[49m\u001B[43m,\u001B[49m\u001B[43m \u001B[49m\u001B[38;5;241;43m1\u001B[39;49m\u001B[43m)\u001B[49m\n\u001B[1;32m      5\u001B[0m plt\u001B[38;5;241m.\u001B[39mscatter(HDI[\u001B[38;5;124m'\u001B[39m\u001B[38;5;124mYear\u001B[39m\u001B[38;5;124m'\u001B[39m], HDI[\u001B[38;5;124m'\u001B[39m\u001B[38;5;124mHDI\u001B[39m\u001B[38;5;124m'\u001B[39m])\n\u001B[1;32m      6\u001B[0m plt\u001B[38;5;241m.\u001B[39mplot(HDI[\u001B[38;5;124m'\u001B[39m\u001B[38;5;124mYear\u001B[39m\u001B[38;5;124m'\u001B[39m], a\u001B[38;5;241m*\u001B[39m HDI[\u001B[38;5;124m'\u001B[39m\u001B[38;5;124mYear\u001B[39m\u001B[38;5;124m'\u001B[39m] \u001B[38;5;241m+\u001B[39m b, \u001B[38;5;124m\"\u001B[39m\u001B[38;5;124mr\u001B[39m\u001B[38;5;124m\"\u001B[39m)\n",
      "File \u001B[0;32m<__array_function__ internals>:180\u001B[0m, in \u001B[0;36mpolyfit\u001B[0;34m(*args, **kwargs)\u001B[0m\n",
      "File \u001B[0;32m~/PycharmProjects/cs5395-project1/venv/lib/python3.8/site-packages/numpy/lib/polynomial.py:668\u001B[0m, in \u001B[0;36mpolyfit\u001B[0;34m(x, y, deg, rcond, full, w, cov)\u001B[0m\n\u001B[1;32m    666\u001B[0m scale \u001B[38;5;241m=\u001B[39m NX\u001B[38;5;241m.\u001B[39msqrt((lhs\u001B[38;5;241m*\u001B[39mlhs)\u001B[38;5;241m.\u001B[39msum(axis\u001B[38;5;241m=\u001B[39m\u001B[38;5;241m0\u001B[39m))\n\u001B[1;32m    667\u001B[0m lhs \u001B[38;5;241m/\u001B[39m\u001B[38;5;241m=\u001B[39m scale\n\u001B[0;32m--> 668\u001B[0m c, resids, rank, s \u001B[38;5;241m=\u001B[39m \u001B[43mlstsq\u001B[49m\u001B[43m(\u001B[49m\u001B[43mlhs\u001B[49m\u001B[43m,\u001B[49m\u001B[43m \u001B[49m\u001B[43mrhs\u001B[49m\u001B[43m,\u001B[49m\u001B[43m \u001B[49m\u001B[43mrcond\u001B[49m\u001B[43m)\u001B[49m\n\u001B[1;32m    669\u001B[0m c \u001B[38;5;241m=\u001B[39m (c\u001B[38;5;241m.\u001B[39mT\u001B[38;5;241m/\u001B[39mscale)\u001B[38;5;241m.\u001B[39mT  \u001B[38;5;66;03m# broadcast scale coefficients\u001B[39;00m\n\u001B[1;32m    671\u001B[0m \u001B[38;5;66;03m# warn on rank reduction, which indicates an ill conditioned matrix\u001B[39;00m\n",
      "File \u001B[0;32m<__array_function__ internals>:180\u001B[0m, in \u001B[0;36mlstsq\u001B[0;34m(*args, **kwargs)\u001B[0m\n",
      "File \u001B[0;32m~/PycharmProjects/cs5395-project1/venv/lib/python3.8/site-packages/numpy/linalg/linalg.py:2292\u001B[0m, in \u001B[0;36mlstsq\u001B[0;34m(a, b, rcond)\u001B[0m\n\u001B[1;32m   2289\u001B[0m \u001B[38;5;28;01mif\u001B[39;00m n_rhs \u001B[38;5;241m==\u001B[39m \u001B[38;5;241m0\u001B[39m:\n\u001B[1;32m   2290\u001B[0m     \u001B[38;5;66;03m# lapack can't handle n_rhs = 0 - so allocate the array one larger in that axis\u001B[39;00m\n\u001B[1;32m   2291\u001B[0m     b \u001B[38;5;241m=\u001B[39m zeros(b\u001B[38;5;241m.\u001B[39mshape[:\u001B[38;5;241m-\u001B[39m\u001B[38;5;241m2\u001B[39m] \u001B[38;5;241m+\u001B[39m (m, n_rhs \u001B[38;5;241m+\u001B[39m \u001B[38;5;241m1\u001B[39m), dtype\u001B[38;5;241m=\u001B[39mb\u001B[38;5;241m.\u001B[39mdtype)\n\u001B[0;32m-> 2292\u001B[0m x, resids, rank, s \u001B[38;5;241m=\u001B[39m \u001B[43mgufunc\u001B[49m\u001B[43m(\u001B[49m\u001B[43ma\u001B[49m\u001B[43m,\u001B[49m\u001B[43m \u001B[49m\u001B[43mb\u001B[49m\u001B[43m,\u001B[49m\u001B[43m \u001B[49m\u001B[43mrcond\u001B[49m\u001B[43m,\u001B[49m\u001B[43m \u001B[49m\u001B[43msignature\u001B[49m\u001B[38;5;241;43m=\u001B[39;49m\u001B[43msignature\u001B[49m\u001B[43m,\u001B[49m\u001B[43m \u001B[49m\u001B[43mextobj\u001B[49m\u001B[38;5;241;43m=\u001B[39;49m\u001B[43mextobj\u001B[49m\u001B[43m)\u001B[49m\n\u001B[1;32m   2293\u001B[0m \u001B[38;5;28;01mif\u001B[39;00m m \u001B[38;5;241m==\u001B[39m \u001B[38;5;241m0\u001B[39m:\n\u001B[1;32m   2294\u001B[0m     x[\u001B[38;5;241m.\u001B[39m\u001B[38;5;241m.\u001B[39m\u001B[38;5;241m.\u001B[39m] \u001B[38;5;241m=\u001B[39m \u001B[38;5;241m0\u001B[39m\n",
      "\u001B[0;31mUFuncTypeError\u001B[0m: Cannot cast ufunc 'lstsq_n' input 1 from dtype('O') to dtype('float64') with casting rule 'same_kind'"
     ]
    }
   ],
   "source": [
    "compare['Year'] = compare['Year'].astype(int)"
   ]
  },
  {
   "cell_type": "code",
   "execution_count": null,
   "id": "6c5fc54a",
   "metadata": {},
   "outputs": [],
   "source": [
    "# plot population and calculated population against years\n",
    "# to see overlap\n",
    "\n",
    "e,f = np.polyfit(compare['Year'], compare['Population'], 1)\n",
    "g,h = np.polyfit(compare['Year'], compare['Best Fit Calculated Population'], 1)\n",
    "\n",
    "plt.scatter(compare['Year'], compare['Population'])\n",
    "plt.plot(compare['Year'], e * compare['Year'] + f, \"b\")\n",
    "\n",
    "plt.scatter(compare['Year'], compare['Best Fit Calculated Population'])\n",
    "plt.plot(compare['Year'], g * compare['Year'] + h, \"r\")\n",
    "\n",
    "plt.title('Comparison of Population and Best Fit Calculated Population')\n",
    "plt.xlabel('Year')\n",
    "plt.ylabel('Population')\n",
    "\n",
    "plt.show()"
   ]
  },
  {
   "cell_type": "code",
   "execution_count": null,
   "id": "0cd4a450",
   "metadata": {},
   "outputs": [],
   "source": [
    "# plot index calculated hdi and best fit calculated hdi against years\n",
    "# to see overlap\n",
    "\n",
    "h,i = np.polyfit(compare['Year'], compare['Index Calculated HDI'], 1)\n",
    "j,k = np.polyfit(compare['Year'], compare['Best Fit Calculated HDI'], 1)\n",
    "\n",
    "plt.scatter(compare['Year'], compare['Index Calculated HDI'])\n",
    "plt.plot(compare['Year'], h * compare['Year'] + i, \"b\")\n",
    "\n",
    "plt.scatter(compare['Year'], compare['Best Fit Calculated HDI'])\n",
    "plt.plot(compare['Year'], j * compare['Year'] + k, \"r\")\n",
    "\n",
    "plt.title('Comparison of Index Calculated HDI and Best Fit Calculated HDI')\n",
    "plt.xlabel('Year')\n",
    "plt.ylabel('HDI')\n",
    "\n",
    "plt.show()\n",
    "\n",
    "# index calculated HDI - blue\n",
    "# best fit calculated HDI - orange"
   ]
  },
  {
   "cell_type": "code",
   "execution_count": null,
   "id": "0bda61d1",
   "metadata": {},
   "outputs": [],
   "source": [
    "# calculate all pops and HDIs from 2019 - 2122 from best fit and plot\n",
    "projected = column_names = ['Years', 'Projected Population', 'Projected HDI']\n",
    "projected = pd.DataFrame(columns = column_names)\n",
    "\n",
    "# using best fit equatios from above\n",
    "for year in range(2018, 2123):\n",
    "    proj_pop = g * year + h\n",
    "    proj_hdi = j * year + k\n",
    "    \n",
    "    projected = projected.append({'Years' : year,\n",
    "                                  'Projected Population' : proj_pop,\n",
    "                                  'Projected HDI' : proj_hdi},\n",
    "                                 ignore_index = True)"
   ]
  },
  {
   "cell_type": "code",
   "execution_count": null,
   "id": "7bf32466",
   "metadata": {},
   "outputs": [],
   "source": [
    "projected"
   ]
  },
  {
   "cell_type": "code",
   "execution_count": null,
   "id": "76535499",
   "metadata": {},
   "outputs": [],
   "source": [
    "projected['Years'] = projected['Years'].astype(int)"
   ]
  },
  {
   "cell_type": "code",
   "execution_count": null,
   "id": "a5091e4b",
   "metadata": {},
   "outputs": [],
   "source": [
    "projected"
   ]
  },
  {
   "cell_type": "code",
   "execution_count": null,
   "id": "5ce40c16",
   "metadata": {},
   "outputs": [],
   "source": [
    "# plot projected population against future years\n",
    "\n",
    "y,z = np.polyfit(projected['Years'], projected['Projected Population'], 1)\n",
    "\n",
    "plt.figure(figsize=(15, 15))\n",
    "\n",
    "plt.title('Year vs Projected Population')\n",
    "plt.xlabel('Year')\n",
    "plt.ylabel('Projected Population')\n",
    "\n",
    "plt.scatter(projected['Years'], projected['Projected Population'])\n",
    "plt.plot(projected['Years'], y * projected['Years'] + z, \"b\")\n",
    "\n",
    "\n",
    "plt.show()"
   ]
  },
  {
   "cell_type": "code",
   "execution_count": null,
   "id": "afb9b0f9",
   "metadata": {},
   "outputs": [],
   "source": [
    "# plot projected HDI against future years\n",
    "\n",
    "r,s = np.polyfit(projected['Years'], projected['Projected HDI'], 1)\n",
    "\n",
    "plt.figure(figsize=(15, 15))\n",
    "\n",
    "plt.title('Year vs Projected HDI')\n",
    "plt.xlabel('Year')\n",
    "plt.ylabel('Projected HDI')\n",
    "\n",
    "plt.scatter(projected['Years'], projected['Projected HDI'])\n",
    "plt.plot(projected['Years'], r * projected['Years'] + s, \"b\")\n",
    "\n",
    "plt.show()"
   ]
  },
  {
   "cell_type": "code",
   "execution_count": null,
   "id": "686bbb18",
   "metadata": {},
   "outputs": [],
   "source": [
    "# hdi ended up being more of a validation factor for the population projection"
   ]
  }
 ],
 "metadata": {
  "kernelspec": {
   "display_name": "Python 3 (ipykernel)",
   "language": "python",
   "name": "python3"
  },
  "language_info": {
   "codemirror_mode": {
    "name": "ipython",
    "version": 3
   },
   "file_extension": ".py",
   "mimetype": "text/x-python",
   "name": "python",
   "nbconvert_exporter": "python",
   "pygments_lexer": "ipython3",
   "version": "3.9.7"
  }
 },
 "nbformat": 4,
 "nbformat_minor": 5
}